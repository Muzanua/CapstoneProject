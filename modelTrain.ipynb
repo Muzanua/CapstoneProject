{
  "cells": [
    {
      "cell_type": "markdown",
      "metadata": {
        "id": "view-in-github",
        "colab_type": "text"
      },
      "source": [
        "<a href=\"https://colab.research.google.com/github/Muzanua/CapstoneProject/blob/main/modelTrain.ipynb\" target=\"_parent\"><img src=\"https://colab.research.google.com/assets/colab-badge.svg\" alt=\"Open In Colab\"/></a>"
      ]
    },
    {
      "cell_type": "code",
      "execution_count": null,
      "metadata": {
        "colab": {
          "base_uri": "https://localhost:8080/"
        },
        "id": "S3yhS5V45j_B",
        "outputId": "b0c16a56-8f22-46c0-fc60-f4dd374f09ff"
      },
      "outputs": [
        {
          "output_type": "stream",
          "name": "stdout",
          "text": [
            "Index(['Timestamp', 'Plant_ID', 'Soil_Moisture', 'Ambient_Temperature',\n",
            "       'Soil_Temperature', 'Humidity', 'Light_Intensity', 'Soil_pH',\n",
            "       'Nitrogen_Level', 'Phosphorus_Level', 'Potassium_Level',\n",
            "       'Chlorophyll_Content', 'Electrochemical_Signal', 'Plant_Health_Status'],\n",
            "      dtype='object')\n"
          ]
        }
      ],
      "source": [
        "import pandas as pd\n",
        "\n",
        "df = pd.read_csv('plant_health_data.csv')\n",
        "print(df.columns)"
      ]
    },
    {
      "cell_type": "code",
      "execution_count": null,
      "metadata": {
        "id": "37p_1xQ164z3",
        "colab": {
          "base_uri": "https://localhost:8080/"
        },
        "collapsed": true,
        "outputId": "9b5990d5-5ed1-4e60-b4d1-17ee0096a5c8"
      },
      "outputs": [
        {
          "output_type": "stream",
          "name": "stdout",
          "text": [
            "          Plant_ID  Soil_Moisture  Ambient_Temperature  Soil_Temperature  \\\n",
            "count  1200.000000    1200.000000          1200.000000       1200.000000   \n",
            "mean      5.500000      25.106918            23.999130         19.957794   \n",
            "std       2.873479       8.677725             3.441561          2.932073   \n",
            "min       1.000000      10.000724            18.001993         15.003710   \n",
            "25%       3.000000      17.131893            21.101766         17.353027   \n",
            "50%       5.500000      25.168333            23.889044         19.911473   \n",
            "75%       8.000000      32.370231            27.042634         22.596851   \n",
            "max      10.000000      39.993164            29.990886         24.995929   \n",
            "\n",
            "          Humidity  Light_Intensity      Soil_pH  Nitrogen_Level  \\\n",
            "count  1200.000000      1200.000000  1200.000000     1200.000000   \n",
            "mean     54.853165       612.637265     6.524102       30.106751   \n",
            "std       8.784916       228.318853     0.581755       11.514396   \n",
            "min      40.028758       200.615482     5.507392       10.003650   \n",
            "25%      47.019694       416.878983     6.026042       20.249774   \n",
            "50%      54.692069       617.240221     6.540524       30.138590   \n",
            "75%      62.451053       811.474690     7.030039       40.184737   \n",
            "max      69.968871       999.856262     7.497823       49.951136   \n",
            "\n",
            "       Phosphorus_Level  Potassium_Level  Chlorophyll_Content  \\\n",
            "count       1200.000000      1200.000000          1200.000000   \n",
            "mean          30.264484        30.112088            34.749591   \n",
            "std           11.466846        11.668085             8.766995   \n",
            "min           10.017690        10.000606            20.025511   \n",
            "25%           20.894445        19.585561            27.463350   \n",
            "50%           30.019385        30.495054            34.433427   \n",
            "75%           40.131459        40.108296            42.232637   \n",
            "max           49.980700        49.981945            49.990811   \n",
            "\n",
            "       Electrochemical_Signal  \n",
            "count             1200.000000  \n",
            "mean                 0.987764  \n",
            "std                  0.575116  \n",
            "min                  0.002376  \n",
            "25%                  0.487982  \n",
            "50%                  0.981647  \n",
            "75%                  1.473142  \n",
            "max                  1.996116  \n",
            "                     Soil_Moisture  Ambient_Temperature  Humidity\n",
            "Soil_Moisture             1.000000            -0.009344  0.053876\n",
            "Ambient_Temperature      -0.009344             1.000000  0.003921\n",
            "Humidity                  0.053876             0.003921  1.000000\n"
          ]
        }
      ],
      "source": [
        "print(df.describe())\n",
        "print(df[['Soil_Moisture', 'Ambient_Temperature', 'Humidity']].corr())"
      ]
    },
    {
      "cell_type": "code",
      "source": [
        "# ==========================================\n",
        "# STEP 1: Import Library\n",
        "# ==========================================\n",
        "import pandas as pd\n",
        "import numpy as np\n",
        "from sklearn.preprocessing import MinMaxScaler, LabelEncoder\n",
        "from sklearn.model_selection import train_test_split\n",
        "from tensorflow.keras.utils import to_categorical\n",
        "import tensorflow as tf\n",
        "from tensorflow.keras import layers\n",
        "\n",
        "# ==========================================\n",
        "# STEP 2: Load Data\n",
        "# ==========================================\n",
        "df = pd.read_csv('plant_health_data.csv')\n",
        "\n",
        "# Pilih fitur dan target\n",
        "X = df[['Soil_Moisture', 'Ambient_Temperature', 'Humidity']].values\n",
        "y = df['Plant_Health_Status'].values  # Kategorikal\n",
        "\n",
        "# ==========================================\n",
        "# STEP 3: Preprocessing Label\n",
        "# ==========================================\n",
        "label_encoder = LabelEncoder()\n",
        "y_encoded = label_encoder.fit_transform(y)       # 'Healthy' → 0, dst\n",
        "y_categorical = to_categorical(y_encoded, num_classes=3)\n",
        "\n",
        "# ==========================================\n",
        "# STEP 4: Normalisasi Input\n",
        "# ==========================================\n",
        "scaler = MinMaxScaler()\n",
        "X_scaled = scaler.fit_transform(X)\n",
        "\n",
        "# ==========================================\n",
        "# STEP 5: Train/Val/Test Split\n",
        "# ==========================================\n",
        "X_train, X_test, y_train, y_test = train_test_split(X_scaled, y_categorical, test_size=0.3, random_state=42)\n",
        "X_train, X_val, y_train, y_val = train_test_split(X_train, y_train, test_size=0.2, random_state=42)\n",
        "\n",
        "# ==========================================\n",
        "# STEP 6: Build Model\n",
        "# ==========================================\n",
        "def build_model(input_shape, num_classes):\n",
        "    model = tf.keras.Sequential([\n",
        "        tf.keras.Input(shape=input_shape),\n",
        "        layers.Dense(32, activation='relu'),\n",
        "        layers.Dense(16, activation='relu'),\n",
        "        layers.Dense(num_classes, activation='softmax')\n",
        "    ])\n",
        "    model.compile(optimizer='adam', loss='categorical_crossentropy', metrics=['accuracy'])\n",
        "    return model\n",
        "\n",
        "model = build_model((3,), 3)\n",
        "\n",
        "# ==========================================\n",
        "# STEP 7: Train\n",
        "# ==========================================\n",
        "model.fit(X_train, y_train, epochs=50, batch_size=16, validation_data=(X_val, y_val), verbose=1)\n",
        "\n",
        "# ==========================================\n",
        "# STEP 8: Convert to TFLite\n",
        "# ==========================================\n",
        "converter = tf.lite.TFLiteConverter.from_keras_model(model)\n",
        "tflite_model = converter.convert()\n",
        "\n",
        "with open(\"PlantHealth.tflite\", \"wb\") as f:\n",
        "    f.write(tflite_model)\n",
        "\n",
        "# ==========================================\n",
        "# STEP 9: Convert to .h\n",
        "# ==========================================\n",
        "!xxd -i PlantHealth.tflite > PlantHealth.h\n"
      ],
      "metadata": {
        "id": "9PPoG6n_DQdh",
        "colab": {
          "base_uri": "https://localhost:8080/"
        },
        "outputId": "d3e403b8-dfa4-4367-c258-690f0e6aaf36"
      },
      "execution_count": null,
      "outputs": [
        {
          "output_type": "stream",
          "name": "stdout",
          "text": [
            "Epoch 1/50\n",
            "\u001b[1m42/42\u001b[0m \u001b[32m━━━━━━━━━━━━━━━━━━━━\u001b[0m\u001b[37m\u001b[0m \u001b[1m5s\u001b[0m 10ms/step - accuracy: 0.3056 - loss: 1.0993 - val_accuracy: 0.5833 - val_loss: 1.0663\n",
            "Epoch 2/50\n",
            "\u001b[1m42/42\u001b[0m \u001b[32m━━━━━━━━━━━━━━━━━━━━\u001b[0m\u001b[37m\u001b[0m \u001b[1m0s\u001b[0m 4ms/step - accuracy: 0.6023 - loss: 1.0562 - val_accuracy: 0.6071 - val_loss: 1.0300\n",
            "Epoch 3/50\n",
            "\u001b[1m42/42\u001b[0m \u001b[32m━━━━━━━━━━━━━━━━━━━━\u001b[0m\u001b[37m\u001b[0m \u001b[1m0s\u001b[0m 4ms/step - accuracy: 0.6209 - loss: 1.0149 - val_accuracy: 0.5833 - val_loss: 0.9769\n",
            "Epoch 4/50\n",
            "\u001b[1m42/42\u001b[0m \u001b[32m━━━━━━━━━━━━━━━━━━━━\u001b[0m\u001b[37m\u001b[0m \u001b[1m0s\u001b[0m 5ms/step - accuracy: 0.6061 - loss: 0.9412 - val_accuracy: 0.5952 - val_loss: 0.9141\n",
            "Epoch 5/50\n",
            "\u001b[1m42/42\u001b[0m \u001b[32m━━━━━━━━━━━━━━━━━━━━\u001b[0m\u001b[37m\u001b[0m \u001b[1m0s\u001b[0m 4ms/step - accuracy: 0.6239 - loss: 0.8750 - val_accuracy: 0.6131 - val_loss: 0.8621\n",
            "Epoch 6/50\n",
            "\u001b[1m42/42\u001b[0m \u001b[32m━━━━━━━━━━━━━━━━━━━━\u001b[0m\u001b[37m\u001b[0m \u001b[1m0s\u001b[0m 5ms/step - accuracy: 0.6119 - loss: 0.8496 - val_accuracy: 0.6429 - val_loss: 0.8151\n",
            "Epoch 7/50\n",
            "\u001b[1m42/42\u001b[0m \u001b[32m━━━━━━━━━━━━━━━━━━━━\u001b[0m\u001b[37m\u001b[0m \u001b[1m0s\u001b[0m 4ms/step - accuracy: 0.6880 - loss: 0.7726 - val_accuracy: 0.6548 - val_loss: 0.7643\n",
            "Epoch 8/50\n",
            "\u001b[1m42/42\u001b[0m \u001b[32m━━━━━━━━━━━━━━━━━━━━\u001b[0m\u001b[37m\u001b[0m \u001b[1m0s\u001b[0m 5ms/step - accuracy: 0.7286 - loss: 0.7186 - val_accuracy: 0.6726 - val_loss: 0.7326\n",
            "Epoch 9/50\n",
            "\u001b[1m42/42\u001b[0m \u001b[32m━━━━━━━━━━━━━━━━━━━━\u001b[0m\u001b[37m\u001b[0m \u001b[1m0s\u001b[0m 4ms/step - accuracy: 0.7246 - loss: 0.7147 - val_accuracy: 0.6667 - val_loss: 0.7113\n",
            "Epoch 10/50\n",
            "\u001b[1m42/42\u001b[0m \u001b[32m━━━━━━━━━━━━━━━━━━━━\u001b[0m\u001b[37m\u001b[0m \u001b[1m0s\u001b[0m 5ms/step - accuracy: 0.7414 - loss: 0.6664 - val_accuracy: 0.7440 - val_loss: 0.6866\n",
            "Epoch 11/50\n",
            "\u001b[1m42/42\u001b[0m \u001b[32m━━━━━━━━━━━━━━━━━━━━\u001b[0m\u001b[37m\u001b[0m \u001b[1m0s\u001b[0m 4ms/step - accuracy: 0.7524 - loss: 0.7030 - val_accuracy: 0.7440 - val_loss: 0.6699\n",
            "Epoch 12/50\n",
            "\u001b[1m42/42\u001b[0m \u001b[32m━━━━━━━━━━━━━━━━━━━━\u001b[0m\u001b[37m\u001b[0m \u001b[1m0s\u001b[0m 4ms/step - accuracy: 0.7470 - loss: 0.6395 - val_accuracy: 0.7500 - val_loss: 0.6534\n",
            "Epoch 13/50\n",
            "\u001b[1m42/42\u001b[0m \u001b[32m━━━━━━━━━━━━━━━━━━━━\u001b[0m\u001b[37m\u001b[0m \u001b[1m0s\u001b[0m 5ms/step - accuracy: 0.7705 - loss: 0.6412 - val_accuracy: 0.7798 - val_loss: 0.6376\n",
            "Epoch 14/50\n",
            "\u001b[1m42/42\u001b[0m \u001b[32m━━━━━━━━━━━━━━━━━━━━\u001b[0m\u001b[37m\u001b[0m \u001b[1m0s\u001b[0m 4ms/step - accuracy: 0.7646 - loss: 0.6298 - val_accuracy: 0.7857 - val_loss: 0.6252\n",
            "Epoch 15/50\n",
            "\u001b[1m42/42\u001b[0m \u001b[32m━━━━━━━━━━━━━━━━━━━━\u001b[0m\u001b[37m\u001b[0m \u001b[1m0s\u001b[0m 5ms/step - accuracy: 0.7831 - loss: 0.5962 - val_accuracy: 0.7738 - val_loss: 0.6202\n",
            "Epoch 16/50\n",
            "\u001b[1m42/42\u001b[0m \u001b[32m━━━━━━━━━━━━━━━━━━━━\u001b[0m\u001b[37m\u001b[0m \u001b[1m0s\u001b[0m 4ms/step - accuracy: 0.7878 - loss: 0.5803 - val_accuracy: 0.7321 - val_loss: 0.6165\n",
            "Epoch 17/50\n",
            "\u001b[1m42/42\u001b[0m \u001b[32m━━━━━━━━━━━━━━━━━━━━\u001b[0m\u001b[37m\u001b[0m \u001b[1m0s\u001b[0m 4ms/step - accuracy: 0.7943 - loss: 0.5343 - val_accuracy: 0.8274 - val_loss: 0.5934\n",
            "Epoch 18/50\n",
            "\u001b[1m42/42\u001b[0m \u001b[32m━━━━━━━━━━━━━━━━━━━━\u001b[0m\u001b[37m\u001b[0m \u001b[1m0s\u001b[0m 4ms/step - accuracy: 0.8099 - loss: 0.5633 - val_accuracy: 0.8155 - val_loss: 0.5868\n",
            "Epoch 19/50\n",
            "\u001b[1m42/42\u001b[0m \u001b[32m━━━━━━━━━━━━━━━━━━━━\u001b[0m\u001b[37m\u001b[0m \u001b[1m0s\u001b[0m 5ms/step - accuracy: 0.8101 - loss: 0.5721 - val_accuracy: 0.8333 - val_loss: 0.5770\n",
            "Epoch 20/50\n",
            "\u001b[1m42/42\u001b[0m \u001b[32m━━━━━━━━━━━━━━━━━━━━\u001b[0m\u001b[37m\u001b[0m \u001b[1m0s\u001b[0m 4ms/step - accuracy: 0.8265 - loss: 0.5173 - val_accuracy: 0.8155 - val_loss: 0.5720\n",
            "Epoch 21/50\n",
            "\u001b[1m42/42\u001b[0m \u001b[32m━━━━━━━━━━━━━━━━━━━━\u001b[0m\u001b[37m\u001b[0m \u001b[1m0s\u001b[0m 5ms/step - accuracy: 0.8192 - loss: 0.5283 - val_accuracy: 0.8393 - val_loss: 0.5615\n",
            "Epoch 22/50\n",
            "\u001b[1m42/42\u001b[0m \u001b[32m━━━━━━━━━━━━━━━━━━━━\u001b[0m\u001b[37m\u001b[0m \u001b[1m0s\u001b[0m 5ms/step - accuracy: 0.8184 - loss: 0.5042 - val_accuracy: 0.8095 - val_loss: 0.5620\n",
            "Epoch 23/50\n",
            "\u001b[1m42/42\u001b[0m \u001b[32m━━━━━━━━━━━━━━━━━━━━\u001b[0m\u001b[37m\u001b[0m \u001b[1m0s\u001b[0m 4ms/step - accuracy: 0.8036 - loss: 0.5280 - val_accuracy: 0.8214 - val_loss: 0.5519\n",
            "Epoch 24/50\n",
            "\u001b[1m42/42\u001b[0m \u001b[32m━━━━━━━━━━━━━━━━━━━━\u001b[0m\u001b[37m\u001b[0m \u001b[1m0s\u001b[0m 5ms/step - accuracy: 0.8272 - loss: 0.5036 - val_accuracy: 0.8274 - val_loss: 0.5462\n",
            "Epoch 25/50\n",
            "\u001b[1m42/42\u001b[0m \u001b[32m━━━━━━━━━━━━━━━━━━━━\u001b[0m\u001b[37m\u001b[0m \u001b[1m0s\u001b[0m 5ms/step - accuracy: 0.8008 - loss: 0.5213 - val_accuracy: 0.8036 - val_loss: 0.5515\n",
            "Epoch 26/50\n",
            "\u001b[1m42/42\u001b[0m \u001b[32m━━━━━━━━━━━━━━━━━━━━\u001b[0m\u001b[37m\u001b[0m \u001b[1m0s\u001b[0m 4ms/step - accuracy: 0.8251 - loss: 0.5017 - val_accuracy: 0.8036 - val_loss: 0.5434\n",
            "Epoch 27/50\n",
            "\u001b[1m42/42\u001b[0m \u001b[32m━━━━━━━━━━━━━━━━━━━━\u001b[0m\u001b[37m\u001b[0m \u001b[1m0s\u001b[0m 5ms/step - accuracy: 0.7819 - loss: 0.5493 - val_accuracy: 0.8571 - val_loss: 0.5345\n",
            "Epoch 28/50\n",
            "\u001b[1m42/42\u001b[0m \u001b[32m━━━━━━━━━━━━━━━━━━━━\u001b[0m\u001b[37m\u001b[0m \u001b[1m0s\u001b[0m 4ms/step - accuracy: 0.8253 - loss: 0.5101 - val_accuracy: 0.8393 - val_loss: 0.5290\n",
            "Epoch 29/50\n",
            "\u001b[1m42/42\u001b[0m \u001b[32m━━━━━━━━━━━━━━━━━━━━\u001b[0m\u001b[37m\u001b[0m \u001b[1m0s\u001b[0m 4ms/step - accuracy: 0.8016 - loss: 0.5177 - val_accuracy: 0.8452 - val_loss: 0.5221\n",
            "Epoch 30/50\n",
            "\u001b[1m42/42\u001b[0m \u001b[32m━━━━━━━━━━━━━━━━━━━━\u001b[0m\u001b[37m\u001b[0m \u001b[1m0s\u001b[0m 4ms/step - accuracy: 0.8201 - loss: 0.4864 - val_accuracy: 0.8452 - val_loss: 0.5192\n",
            "Epoch 31/50\n",
            "\u001b[1m42/42\u001b[0m \u001b[32m━━━━━━━━━━━━━━━━━━━━\u001b[0m\u001b[37m\u001b[0m \u001b[1m0s\u001b[0m 4ms/step - accuracy: 0.8304 - loss: 0.4771 - val_accuracy: 0.8155 - val_loss: 0.5225\n",
            "Epoch 32/50\n",
            "\u001b[1m42/42\u001b[0m \u001b[32m━━━━━━━━━━━━━━━━━━━━\u001b[0m\u001b[37m\u001b[0m \u001b[1m0s\u001b[0m 4ms/step - accuracy: 0.8624 - loss: 0.4418 - val_accuracy: 0.8393 - val_loss: 0.5175\n",
            "Epoch 33/50\n",
            "\u001b[1m42/42\u001b[0m \u001b[32m━━━━━━━━━━━━━━━━━━━━\u001b[0m\u001b[37m\u001b[0m \u001b[1m0s\u001b[0m 4ms/step - accuracy: 0.8331 - loss: 0.4948 - val_accuracy: 0.8393 - val_loss: 0.5119\n",
            "Epoch 34/50\n",
            "\u001b[1m42/42\u001b[0m \u001b[32m━━━━━━━━━━━━━━━━━━━━\u001b[0m\u001b[37m\u001b[0m \u001b[1m0s\u001b[0m 4ms/step - accuracy: 0.8302 - loss: 0.4443 - val_accuracy: 0.8512 - val_loss: 0.5086\n",
            "Epoch 35/50\n",
            "\u001b[1m42/42\u001b[0m \u001b[32m━━━━━━━━━━━━━━━━━━━━\u001b[0m\u001b[37m\u001b[0m \u001b[1m0s\u001b[0m 7ms/step - accuracy: 0.8435 - loss: 0.4401 - val_accuracy: 0.8393 - val_loss: 0.5110\n",
            "Epoch 36/50\n",
            "\u001b[1m42/42\u001b[0m \u001b[32m━━━━━━━━━━━━━━━━━━━━\u001b[0m\u001b[37m\u001b[0m \u001b[1m1s\u001b[0m 6ms/step - accuracy: 0.8424 - loss: 0.4522 - val_accuracy: 0.8274 - val_loss: 0.5116\n",
            "Epoch 37/50\n",
            "\u001b[1m42/42\u001b[0m \u001b[32m━━━━━━━━━━━━━━━━━━━━\u001b[0m\u001b[37m\u001b[0m \u001b[1m1s\u001b[0m 6ms/step - accuracy: 0.8618 - loss: 0.4272 - val_accuracy: 0.8095 - val_loss: 0.5188\n",
            "Epoch 38/50\n",
            "\u001b[1m42/42\u001b[0m \u001b[32m━━━━━━━━━━━━━━━━━━━━\u001b[0m\u001b[37m\u001b[0m \u001b[1m1s\u001b[0m 9ms/step - accuracy: 0.8242 - loss: 0.4487 - val_accuracy: 0.8155 - val_loss: 0.5146\n",
            "Epoch 39/50\n",
            "\u001b[1m42/42\u001b[0m \u001b[32m━━━━━━━━━━━━━━━━━━━━\u001b[0m\u001b[37m\u001b[0m \u001b[1m0s\u001b[0m 4ms/step - accuracy: 0.8179 - loss: 0.4662 - val_accuracy: 0.8571 - val_loss: 0.5023\n",
            "Epoch 40/50\n",
            "\u001b[1m42/42\u001b[0m \u001b[32m━━━━━━━━━━━━━━━━━━━━\u001b[0m\u001b[37m\u001b[0m \u001b[1m0s\u001b[0m 4ms/step - accuracy: 0.8460 - loss: 0.4606 - val_accuracy: 0.8333 - val_loss: 0.5018\n",
            "Epoch 41/50\n",
            "\u001b[1m42/42\u001b[0m \u001b[32m━━━━━━━━━━━━━━━━━━━━\u001b[0m\u001b[37m\u001b[0m \u001b[1m0s\u001b[0m 5ms/step - accuracy: 0.8250 - loss: 0.4672 - val_accuracy: 0.8452 - val_loss: 0.5012\n",
            "Epoch 42/50\n",
            "\u001b[1m42/42\u001b[0m \u001b[32m━━━━━━━━━━━━━━━━━━━━\u001b[0m\u001b[37m\u001b[0m \u001b[1m0s\u001b[0m 4ms/step - accuracy: 0.8319 - loss: 0.4605 - val_accuracy: 0.8393 - val_loss: 0.4987\n",
            "Epoch 43/50\n",
            "\u001b[1m42/42\u001b[0m \u001b[32m━━━━━━━━━━━━━━━━━━━━\u001b[0m\u001b[37m\u001b[0m \u001b[1m0s\u001b[0m 5ms/step - accuracy: 0.8393 - loss: 0.4469 - val_accuracy: 0.8274 - val_loss: 0.5045\n",
            "Epoch 44/50\n",
            "\u001b[1m42/42\u001b[0m \u001b[32m━━━━━━━━━━━━━━━━━━━━\u001b[0m\u001b[37m\u001b[0m \u001b[1m0s\u001b[0m 5ms/step - accuracy: 0.8057 - loss: 0.4908 - val_accuracy: 0.8631 - val_loss: 0.4988\n",
            "Epoch 45/50\n",
            "\u001b[1m42/42\u001b[0m \u001b[32m━━━━━━━━━━━━━━━━━━━━\u001b[0m\u001b[37m\u001b[0m \u001b[1m0s\u001b[0m 4ms/step - accuracy: 0.8656 - loss: 0.4143 - val_accuracy: 0.8333 - val_loss: 0.4987\n",
            "Epoch 46/50\n",
            "\u001b[1m42/42\u001b[0m \u001b[32m━━━━━━━━━━━━━━━━━━━━\u001b[0m\u001b[37m\u001b[0m \u001b[1m0s\u001b[0m 5ms/step - accuracy: 0.8205 - loss: 0.4786 - val_accuracy: 0.8393 - val_loss: 0.4951\n",
            "Epoch 47/50\n",
            "\u001b[1m42/42\u001b[0m \u001b[32m━━━━━━━━━━━━━━━━━━━━\u001b[0m\u001b[37m\u001b[0m \u001b[1m0s\u001b[0m 4ms/step - accuracy: 0.8347 - loss: 0.4625 - val_accuracy: 0.8333 - val_loss: 0.4981\n",
            "Epoch 48/50\n",
            "\u001b[1m42/42\u001b[0m \u001b[32m━━━━━━━━━━━━━━━━━━━━\u001b[0m\u001b[37m\u001b[0m \u001b[1m0s\u001b[0m 5ms/step - accuracy: 0.8224 - loss: 0.4593 - val_accuracy: 0.8155 - val_loss: 0.5074\n",
            "Epoch 49/50\n",
            "\u001b[1m42/42\u001b[0m \u001b[32m━━━━━━━━━━━━━━━━━━━━\u001b[0m\u001b[37m\u001b[0m \u001b[1m0s\u001b[0m 4ms/step - accuracy: 0.8172 - loss: 0.4610 - val_accuracy: 0.8452 - val_loss: 0.4937\n",
            "Epoch 50/50\n",
            "\u001b[1m42/42\u001b[0m \u001b[32m━━━━━━━━━━━━━━━━━━━━\u001b[0m\u001b[37m\u001b[0m \u001b[1m0s\u001b[0m 4ms/step - accuracy: 0.8469 - loss: 0.4220 - val_accuracy: 0.8512 - val_loss: 0.4937\n",
            "Saved artifact at '/tmp/tmpnfom6hkz'. The following endpoints are available:\n",
            "\n",
            "* Endpoint 'serve'\n",
            "  args_0 (POSITIONAL_ONLY): TensorSpec(shape=(None, 3), dtype=tf.float32, name='keras_tensor')\n",
            "Output Type:\n",
            "  TensorSpec(shape=(None, 3), dtype=tf.float32, name=None)\n",
            "Captures:\n",
            "  132605538403536: TensorSpec(shape=(), dtype=tf.resource, name=None)\n",
            "  132605538407376: TensorSpec(shape=(), dtype=tf.resource, name=None)\n",
            "  132605538409104: TensorSpec(shape=(), dtype=tf.resource, name=None)\n",
            "  132605538404880: TensorSpec(shape=(), dtype=tf.resource, name=None)\n",
            "  132605538409296: TensorSpec(shape=(), dtype=tf.resource, name=None)\n",
            "  132605538406992: TensorSpec(shape=(), dtype=tf.resource, name=None)\n"
          ]
        }
      ]
    },
    {
      "cell_type": "code",
      "source": [
        "# Cek hasil\n",
        "print(list(zip(y, y_encoded)))"
      ],
      "metadata": {
        "colab": {
          "base_uri": "https://localhost:8080/"
        },
        "id": "fjWIl-BOlyRD",
        "outputId": "8b283690-efd9-428d-9432-4ca895e7fe92"
      },
      "execution_count": null,
      "outputs": [
        {
          "output_type": "stream",
          "name": "stdout",
          "text": [
            "[('High Stress', np.int64(1)), ('High Stress', np.int64(1)), ('High Stress', np.int64(1)), ('High Stress', np.int64(1)), ('High Stress', np.int64(1)), ('High Stress', np.int64(1)), ('High Stress', np.int64(1)), ('Moderate Stress', np.int64(2)), ('High Stress', np.int64(1)), ('High Stress', np.int64(1)), ('Moderate Stress', np.int64(2)), ('Healthy', np.int64(0)), ('Moderate Stress', np.int64(2)), ('Moderate Stress', np.int64(2)), ('Moderate Stress', np.int64(2)), ('Moderate Stress', np.int64(2)), ('Moderate Stress', np.int64(2)), ('High Stress', np.int64(1)), ('Moderate Stress', np.int64(2)), ('Moderate Stress', np.int64(2)), ('Healthy', np.int64(0)), ('Healthy', np.int64(0)), ('Healthy', np.int64(0)), ('Healthy', np.int64(0)), ('Healthy', np.int64(0)), ('Moderate Stress', np.int64(2)), ('High Stress', np.int64(1)), ('Healthy', np.int64(0)), ('High Stress', np.int64(1)), ('High Stress', np.int64(1)), ('High Stress', np.int64(1)), ('Healthy', np.int64(0)), ('Healthy', np.int64(0)), ('High Stress', np.int64(1)), ('Healthy', np.int64(0)), ('Moderate Stress', np.int64(2)), ('High Stress', np.int64(1)), ('High Stress', np.int64(1)), ('High Stress', np.int64(1)), ('High Stress', np.int64(1)), ('High Stress', np.int64(1)), ('Healthy', np.int64(0)), ('High Stress', np.int64(1)), ('Moderate Stress', np.int64(2)), ('Healthy', np.int64(0)), ('Moderate Stress', np.int64(2)), ('Moderate Stress', np.int64(2)), ('High Stress', np.int64(1)), ('High Stress', np.int64(1)), ('Moderate Stress', np.int64(2)), ('Moderate Stress', np.int64(2)), ('High Stress', np.int64(1)), ('High Stress', np.int64(1)), ('Moderate Stress', np.int64(2)), ('High Stress', np.int64(1)), ('High Stress', np.int64(1)), ('Moderate Stress', np.int64(2)), ('Moderate Stress', np.int64(2)), ('Moderate Stress', np.int64(2)), ('Moderate Stress', np.int64(2)), ('High Stress', np.int64(1)), ('Healthy', np.int64(0)), ('High Stress', np.int64(1)), ('High Stress', np.int64(1)), ('Moderate Stress', np.int64(2)), ('High Stress', np.int64(1)), ('High Stress', np.int64(1)), ('High Stress', np.int64(1)), ('High Stress', np.int64(1)), ('High Stress', np.int64(1)), ('High Stress', np.int64(1)), ('Moderate Stress', np.int64(2)), ('Moderate Stress', np.int64(2)), ('Moderate Stress', np.int64(2)), ('High Stress', np.int64(1)), ('Moderate Stress', np.int64(2)), ('Healthy', np.int64(0)), ('Moderate Stress', np.int64(2)), ('Healthy', np.int64(0)), ('High Stress', np.int64(1)), ('High Stress', np.int64(1)), ('Moderate Stress', np.int64(2)), ('Moderate Stress', np.int64(2)), ('Moderate Stress', np.int64(2)), ('High Stress', np.int64(1)), ('High Stress', np.int64(1)), ('Moderate Stress', np.int64(2)), ('Moderate Stress', np.int64(2)), ('Healthy', np.int64(0)), ('High Stress', np.int64(1)), ('Healthy', np.int64(0)), ('Moderate Stress', np.int64(2)), ('High Stress', np.int64(1)), ('Moderate Stress', np.int64(2)), ('Moderate Stress', np.int64(2)), ('Moderate Stress', np.int64(2)), ('Moderate Stress', np.int64(2)), ('High Stress', np.int64(1)), ('Moderate Stress', np.int64(2)), ('High Stress', np.int64(1)), ('High Stress', np.int64(1)), ('Moderate Stress', np.int64(2)), ('High Stress', np.int64(1)), ('Moderate Stress', np.int64(2)), ('Moderate Stress', np.int64(2)), ('Moderate Stress', np.int64(2)), ('High Stress', np.int64(1)), ('Moderate Stress', np.int64(2)), ('High Stress', np.int64(1)), ('Healthy', np.int64(0)), ('Healthy', np.int64(0)), ('Healthy', np.int64(0)), ('Moderate Stress', np.int64(2)), ('Healthy', np.int64(0)), ('Moderate Stress', np.int64(2)), ('Healthy', np.int64(0)), ('Healthy', np.int64(0)), ('High Stress', np.int64(1)), ('Moderate Stress', np.int64(2)), ('Healthy', np.int64(0)), ('High Stress', np.int64(1)), ('High Stress', np.int64(1)), ('High Stress', np.int64(1)), ('Moderate Stress', np.int64(2)), ('High Stress', np.int64(1)), ('Healthy', np.int64(0)), ('High Stress', np.int64(1)), ('Moderate Stress', np.int64(2)), ('Moderate Stress', np.int64(2)), ('Moderate Stress', np.int64(2)), ('High Stress', np.int64(1)), ('Moderate Stress', np.int64(2)), ('Moderate Stress', np.int64(2)), ('Healthy', np.int64(0)), ('High Stress', np.int64(1)), ('High Stress', np.int64(1)), ('Moderate Stress', np.int64(2)), ('Healthy', np.int64(0)), ('High Stress', np.int64(1)), ('Moderate Stress', np.int64(2)), ('Healthy', np.int64(0)), ('Healthy', np.int64(0)), ('Healthy', np.int64(0)), ('Moderate Stress', np.int64(2)), ('High Stress', np.int64(1)), ('High Stress', np.int64(1)), ('Moderate Stress', np.int64(2)), ('Healthy', np.int64(0)), ('High Stress', np.int64(1)), ('Healthy', np.int64(0)), ('Moderate Stress', np.int64(2)), ('Healthy', np.int64(0)), ('Healthy', np.int64(0)), ('High Stress', np.int64(1)), ('Healthy', np.int64(0)), ('Healthy', np.int64(0)), ('High Stress', np.int64(1)), ('Healthy', np.int64(0)), ('High Stress', np.int64(1)), ('Healthy', np.int64(0)), ('High Stress', np.int64(1)), ('High Stress', np.int64(1)), ('Moderate Stress', np.int64(2)), ('High Stress', np.int64(1)), ('Moderate Stress', np.int64(2)), ('Healthy', np.int64(0)), ('High Stress', np.int64(1)), ('Moderate Stress', np.int64(2)), ('High Stress', np.int64(1)), ('High Stress', np.int64(1)), ('Moderate Stress', np.int64(2)), ('Healthy', np.int64(0)), ('Healthy', np.int64(0)), ('High Stress', np.int64(1)), ('High Stress', np.int64(1)), ('Healthy', np.int64(0)), ('Moderate Stress', np.int64(2)), ('High Stress', np.int64(1)), ('Moderate Stress', np.int64(2)), ('Moderate Stress', np.int64(2)), ('Healthy', np.int64(0)), ('High Stress', np.int64(1)), ('Healthy', np.int64(0)), ('Healthy', np.int64(0)), ('High Stress', np.int64(1)), ('Moderate Stress', np.int64(2)), ('Moderate Stress', np.int64(2)), ('High Stress', np.int64(1)), ('Moderate Stress', np.int64(2)), ('High Stress', np.int64(1)), ('High Stress', np.int64(1)), ('High Stress', np.int64(1)), ('High Stress', np.int64(1)), ('High Stress', np.int64(1)), ('High Stress', np.int64(1)), ('High Stress', np.int64(1)), ('High Stress', np.int64(1)), ('Healthy', np.int64(0)), ('Healthy', np.int64(0)), ('High Stress', np.int64(1)), ('High Stress', np.int64(1)), ('High Stress', np.int64(1)), ('Moderate Stress', np.int64(2)), ('Healthy', np.int64(0)), ('High Stress', np.int64(1)), ('Healthy', np.int64(0)), ('Healthy', np.int64(0)), ('Moderate Stress', np.int64(2)), ('Healthy', np.int64(0)), ('High Stress', np.int64(1)), ('Moderate Stress', np.int64(2)), ('Healthy', np.int64(0)), ('Healthy', np.int64(0)), ('High Stress', np.int64(1)), ('Moderate Stress', np.int64(2)), ('Healthy', np.int64(0)), ('Moderate Stress', np.int64(2)), ('High Stress', np.int64(1)), ('Moderate Stress', np.int64(2)), ('High Stress', np.int64(1)), ('Moderate Stress', np.int64(2)), ('High Stress', np.int64(1)), ('High Stress', np.int64(1)), ('High Stress', np.int64(1)), ('High Stress', np.int64(1)), ('High Stress', np.int64(1)), ('Moderate Stress', np.int64(2)), ('Healthy', np.int64(0)), ('Healthy', np.int64(0)), ('High Stress', np.int64(1)), ('High Stress', np.int64(1)), ('Healthy', np.int64(0)), ('Healthy', np.int64(0)), ('Moderate Stress', np.int64(2)), ('Moderate Stress', np.int64(2)), ('Healthy', np.int64(0)), ('High Stress', np.int64(1)), ('High Stress', np.int64(1)), ('High Stress', np.int64(1)), ('Healthy', np.int64(0)), ('Healthy', np.int64(0)), ('Moderate Stress', np.int64(2)), ('Healthy', np.int64(0)), ('Moderate Stress', np.int64(2)), ('Moderate Stress', np.int64(2)), ('High Stress', np.int64(1)), ('Healthy', np.int64(0)), ('Moderate Stress', np.int64(2)), ('Moderate Stress', np.int64(2)), ('Moderate Stress', np.int64(2)), ('High Stress', np.int64(1)), ('Healthy', np.int64(0)), ('Moderate Stress', np.int64(2)), ('Healthy', np.int64(0)), ('Healthy', np.int64(0)), ('High Stress', np.int64(1)), ('Moderate Stress', np.int64(2)), ('Moderate Stress', np.int64(2)), ('Moderate Stress', np.int64(2)), ('High Stress', np.int64(1)), ('Moderate Stress', np.int64(2)), ('Moderate Stress', np.int64(2)), ('Moderate Stress', np.int64(2)), ('High Stress', np.int64(1)), ('Moderate Stress', np.int64(2)), ('High Stress', np.int64(1)), ('Healthy', np.int64(0)), ('Healthy', np.int64(0)), ('High Stress', np.int64(1)), ('High Stress', np.int64(1)), ('Healthy', np.int64(0)), ('Moderate Stress', np.int64(2)), ('Moderate Stress', np.int64(2)), ('Healthy', np.int64(0)), ('Moderate Stress', np.int64(2)), ('Healthy', np.int64(0)), ('High Stress', np.int64(1)), ('Healthy', np.int64(0)), ('Moderate Stress', np.int64(2)), ('Moderate Stress', np.int64(2)), ('Moderate Stress', np.int64(2)), ('High Stress', np.int64(1)), ('Moderate Stress', np.int64(2)), ('High Stress', np.int64(1)), ('Healthy', np.int64(0)), ('High Stress', np.int64(1)), ('Healthy', np.int64(0)), ('Moderate Stress', np.int64(2)), ('High Stress', np.int64(1)), ('Healthy', np.int64(0)), ('Moderate Stress', np.int64(2)), ('Healthy', np.int64(0)), ('Healthy', np.int64(0)), ('High Stress', np.int64(1)), ('High Stress', np.int64(1)), ('Healthy', np.int64(0)), ('High Stress', np.int64(1)), ('High Stress', np.int64(1)), ('Moderate Stress', np.int64(2)), ('Healthy', np.int64(0)), ('Moderate Stress', np.int64(2)), ('High Stress', np.int64(1)), ('High Stress', np.int64(1)), ('Moderate Stress', np.int64(2)), ('Healthy', np.int64(0)), ('Moderate Stress', np.int64(2)), ('High Stress', np.int64(1)), ('Healthy', np.int64(0)), ('Moderate Stress', np.int64(2)), ('High Stress', np.int64(1)), ('Healthy', np.int64(0)), ('High Stress', np.int64(1)), ('High Stress', np.int64(1)), ('Healthy', np.int64(0)), ('Moderate Stress', np.int64(2)), ('Healthy', np.int64(0)), ('High Stress', np.int64(1)), ('High Stress', np.int64(1)), ('Moderate Stress', np.int64(2)), ('Moderate Stress', np.int64(2)), ('Healthy', np.int64(0)), ('Healthy', np.int64(0)), ('Moderate Stress', np.int64(2)), ('High Stress', np.int64(1)), ('High Stress', np.int64(1)), ('Moderate Stress', np.int64(2)), ('High Stress', np.int64(1)), ('Moderate Stress', np.int64(2)), ('Healthy', np.int64(0)), ('Moderate Stress', np.int64(2)), ('High Stress', np.int64(1)), ('High Stress', np.int64(1)), ('Healthy', np.int64(0)), ('High Stress', np.int64(1)), ('High Stress', np.int64(1)), ('Healthy', np.int64(0)), ('High Stress', np.int64(1)), ('Healthy', np.int64(0)), ('Moderate Stress', np.int64(2)), ('Healthy', np.int64(0)), ('Healthy', np.int64(0)), ('High Stress', np.int64(1)), ('Moderate Stress', np.int64(2)), ('Healthy', np.int64(0)), ('Healthy', np.int64(0)), ('Healthy', np.int64(0)), ('High Stress', np.int64(1)), ('High Stress', np.int64(1)), ('Moderate Stress', np.int64(2)), ('Healthy', np.int64(0)), ('Moderate Stress', np.int64(2)), ('High Stress', np.int64(1)), ('Healthy', np.int64(0)), ('High Stress', np.int64(1)), ('High Stress', np.int64(1)), ('Healthy', np.int64(0)), ('High Stress', np.int64(1)), ('Healthy', np.int64(0)), ('High Stress', np.int64(1)), ('Moderate Stress', np.int64(2)), ('Healthy', np.int64(0)), ('High Stress', np.int64(1)), ('Moderate Stress', np.int64(2)), ('Healthy', np.int64(0)), ('Moderate Stress', np.int64(2)), ('Healthy', np.int64(0)), ('Moderate Stress', np.int64(2)), ('Moderate Stress', np.int64(2)), ('High Stress', np.int64(1)), ('Moderate Stress', np.int64(2)), ('Moderate Stress', np.int64(2)), ('Moderate Stress', np.int64(2)), ('Moderate Stress', np.int64(2)), ('High Stress', np.int64(1)), ('Healthy', np.int64(0)), ('Healthy', np.int64(0)), ('Moderate Stress', np.int64(2)), ('Moderate Stress', np.int64(2)), ('Healthy', np.int64(0)), ('High Stress', np.int64(1)), ('Healthy', np.int64(0)), ('High Stress', np.int64(1)), ('Healthy', np.int64(0)), ('Moderate Stress', np.int64(2)), ('High Stress', np.int64(1)), ('Healthy', np.int64(0)), ('Moderate Stress', np.int64(2)), ('Moderate Stress', np.int64(2)), ('Moderate Stress', np.int64(2)), ('Moderate Stress', np.int64(2)), ('Moderate Stress', np.int64(2)), ('High Stress', np.int64(1)), ('High Stress', np.int64(1)), ('High Stress', np.int64(1)), ('Moderate Stress', np.int64(2)), ('Moderate Stress', np.int64(2)), ('High Stress', np.int64(1)), ('High Stress', np.int64(1)), ('Healthy', np.int64(0)), ('Healthy', np.int64(0)), ('High Stress', np.int64(1)), ('High Stress', np.int64(1)), ('Healthy', np.int64(0)), ('Healthy', np.int64(0)), ('High Stress', np.int64(1)), ('Healthy', np.int64(0)), ('Healthy', np.int64(0)), ('Moderate Stress', np.int64(2)), ('Healthy', np.int64(0)), ('High Stress', np.int64(1)), ('Moderate Stress', np.int64(2)), ('Healthy', np.int64(0)), ('Healthy', np.int64(0)), ('Healthy', np.int64(0)), ('Healthy', np.int64(0)), ('High Stress', np.int64(1)), ('High Stress', np.int64(1)), ('Moderate Stress', np.int64(2)), ('High Stress', np.int64(1)), ('Moderate Stress', np.int64(2)), ('Moderate Stress', np.int64(2)), ('High Stress', np.int64(1)), ('High Stress', np.int64(1)), ('Healthy', np.int64(0)), ('High Stress', np.int64(1)), ('High Stress', np.int64(1)), ('Moderate Stress', np.int64(2)), ('Healthy', np.int64(0)), ('High Stress', np.int64(1)), ('High Stress', np.int64(1)), ('High Stress', np.int64(1)), ('Healthy', np.int64(0)), ('Moderate Stress', np.int64(2)), ('Healthy', np.int64(0)), ('High Stress', np.int64(1)), ('Moderate Stress', np.int64(2)), ('High Stress', np.int64(1)), ('Moderate Stress', np.int64(2)), ('High Stress', np.int64(1)), ('Moderate Stress', np.int64(2)), ('Healthy', np.int64(0)), ('High Stress', np.int64(1)), ('High Stress', np.int64(1)), ('Moderate Stress', np.int64(2)), ('High Stress', np.int64(1)), ('High Stress', np.int64(1)), ('Moderate Stress', np.int64(2)), ('Moderate Stress', np.int64(2)), ('Moderate Stress', np.int64(2)), ('Healthy', np.int64(0)), ('High Stress', np.int64(1)), ('Moderate Stress', np.int64(2)), ('Moderate Stress', np.int64(2)), ('High Stress', np.int64(1)), ('Moderate Stress', np.int64(2)), ('High Stress', np.int64(1)), ('High Stress', np.int64(1)), ('High Stress', np.int64(1)), ('Moderate Stress', np.int64(2)), ('Moderate Stress', np.int64(2)), ('Moderate Stress', np.int64(2)), ('High Stress', np.int64(1)), ('Moderate Stress', np.int64(2)), ('Moderate Stress', np.int64(2)), ('Moderate Stress', np.int64(2)), ('Moderate Stress', np.int64(2)), ('Moderate Stress', np.int64(2)), ('High Stress', np.int64(1)), ('Moderate Stress', np.int64(2)), ('High Stress', np.int64(1)), ('Healthy', np.int64(0)), ('Moderate Stress', np.int64(2)), ('High Stress', np.int64(1)), ('Healthy', np.int64(0)), ('High Stress', np.int64(1)), ('High Stress', np.int64(1)), ('High Stress', np.int64(1)), ('High Stress', np.int64(1)), ('Moderate Stress', np.int64(2)), ('High Stress', np.int64(1)), ('High Stress', np.int64(1)), ('Moderate Stress', np.int64(2)), ('Moderate Stress', np.int64(2)), ('Moderate Stress', np.int64(2)), ('Moderate Stress', np.int64(2)), ('High Stress', np.int64(1)), ('High Stress', np.int64(1)), ('Moderate Stress', np.int64(2)), ('Moderate Stress', np.int64(2)), ('High Stress', np.int64(1)), ('Healthy', np.int64(0)), ('High Stress', np.int64(1)), ('Healthy', np.int64(0)), ('Moderate Stress', np.int64(2)), ('Moderate Stress', np.int64(2)), ('High Stress', np.int64(1)), ('Moderate Stress', np.int64(2)), ('Moderate Stress', np.int64(2)), ('High Stress', np.int64(1)), ('Moderate Stress', np.int64(2)), ('High Stress', np.int64(1)), ('High Stress', np.int64(1)), ('Healthy', np.int64(0)), ('Healthy', np.int64(0)), ('High Stress', np.int64(1)), ('Healthy', np.int64(0)), ('Moderate Stress', np.int64(2)), ('Moderate Stress', np.int64(2)), ('Moderate Stress', np.int64(2)), ('High Stress', np.int64(1)), ('High Stress', np.int64(1)), ('Moderate Stress', np.int64(2)), ('Healthy', np.int64(0)), ('High Stress', np.int64(1)), ('Healthy', np.int64(0)), ('Healthy', np.int64(0)), ('Healthy', np.int64(0)), ('High Stress', np.int64(1)), ('Healthy', np.int64(0)), ('High Stress', np.int64(1)), ('Moderate Stress', np.int64(2)), ('Moderate Stress', np.int64(2)), ('High Stress', np.int64(1)), ('Healthy', np.int64(0)), ('High Stress', np.int64(1)), ('Moderate Stress', np.int64(2)), ('Moderate Stress', np.int64(2)), ('Healthy', np.int64(0)), ('Moderate Stress', np.int64(2)), ('Moderate Stress', np.int64(2)), ('Healthy', np.int64(0)), ('High Stress', np.int64(1)), ('Moderate Stress', np.int64(2)), ('Moderate Stress', np.int64(2)), ('Moderate Stress', np.int64(2)), ('High Stress', np.int64(1)), ('High Stress', np.int64(1)), ('High Stress', np.int64(1)), ('Moderate Stress', np.int64(2)), ('Moderate Stress', np.int64(2)), ('High Stress', np.int64(1)), ('Moderate Stress', np.int64(2)), ('Moderate Stress', np.int64(2)), ('High Stress', np.int64(1)), ('Healthy', np.int64(0)), ('High Stress', np.int64(1)), ('High Stress', np.int64(1)), ('High Stress', np.int64(1)), ('Healthy', np.int64(0)), ('High Stress', np.int64(1)), ('High Stress', np.int64(1)), ('High Stress', np.int64(1)), ('Healthy', np.int64(0)), ('Healthy', np.int64(0)), ('Healthy', np.int64(0)), ('High Stress', np.int64(1)), ('Healthy', np.int64(0)), ('Moderate Stress', np.int64(2)), ('High Stress', np.int64(1)), ('High Stress', np.int64(1)), ('Moderate Stress', np.int64(2)), ('Moderate Stress', np.int64(2)), ('High Stress', np.int64(1)), ('Moderate Stress', np.int64(2)), ('Healthy', np.int64(0)), ('High Stress', np.int64(1)), ('Moderate Stress', np.int64(2)), ('High Stress', np.int64(1)), ('Healthy', np.int64(0)), ('Healthy', np.int64(0)), ('Moderate Stress', np.int64(2)), ('Healthy', np.int64(0)), ('Moderate Stress', np.int64(2)), ('Healthy', np.int64(0)), ('Moderate Stress', np.int64(2)), ('High Stress', np.int64(1)), ('Healthy', np.int64(0)), ('High Stress', np.int64(1)), ('Healthy', np.int64(0)), ('High Stress', np.int64(1)), ('High Stress', np.int64(1)), ('High Stress', np.int64(1)), ('High Stress', np.int64(1)), ('High Stress', np.int64(1)), ('High Stress', np.int64(1)), ('Moderate Stress', np.int64(2)), ('High Stress', np.int64(1)), ('High Stress', np.int64(1)), ('Healthy', np.int64(0)), ('High Stress', np.int64(1)), ('Moderate Stress', np.int64(2)), ('Moderate Stress', np.int64(2)), ('Moderate Stress', np.int64(2)), ('High Stress', np.int64(1)), ('High Stress', np.int64(1)), ('Moderate Stress', np.int64(2)), ('High Stress', np.int64(1)), ('Healthy', np.int64(0)), ('Healthy', np.int64(0)), ('High Stress', np.int64(1)), ('High Stress', np.int64(1)), ('Moderate Stress', np.int64(2)), ('Moderate Stress', np.int64(2)), ('Healthy', np.int64(0)), ('High Stress', np.int64(1)), ('Moderate Stress', np.int64(2)), ('Healthy', np.int64(0)), ('High Stress', np.int64(1)), ('Moderate Stress', np.int64(2)), ('Healthy', np.int64(0)), ('Moderate Stress', np.int64(2)), ('Moderate Stress', np.int64(2)), ('Healthy', np.int64(0)), ('Moderate Stress', np.int64(2)), ('Healthy', np.int64(0)), ('High Stress', np.int64(1)), ('Moderate Stress', np.int64(2)), ('High Stress', np.int64(1)), ('Moderate Stress', np.int64(2)), ('Healthy', np.int64(0)), ('High Stress', np.int64(1)), ('Healthy', np.int64(0)), ('High Stress', np.int64(1)), ('High Stress', np.int64(1)), ('High Stress', np.int64(1)), ('High Stress', np.int64(1)), ('High Stress', np.int64(1)), ('Moderate Stress', np.int64(2)), ('High Stress', np.int64(1)), ('High Stress', np.int64(1)), ('High Stress', np.int64(1)), ('High Stress', np.int64(1)), ('Moderate Stress', np.int64(2)), ('High Stress', np.int64(1)), ('High Stress', np.int64(1)), ('Moderate Stress', np.int64(2)), ('Healthy', np.int64(0)), ('Healthy', np.int64(0)), ('High Stress', np.int64(1)), ('Healthy', np.int64(0)), ('Moderate Stress', np.int64(2)), ('Healthy', np.int64(0)), ('Moderate Stress', np.int64(2)), ('Healthy', np.int64(0)), ('Healthy', np.int64(0)), ('High Stress', np.int64(1)), ('Moderate Stress', np.int64(2)), ('High Stress', np.int64(1)), ('Moderate Stress', np.int64(2)), ('High Stress', np.int64(1)), ('Healthy', np.int64(0)), ('High Stress', np.int64(1)), ('Healthy', np.int64(0)), ('Healthy', np.int64(0)), ('High Stress', np.int64(1)), ('High Stress', np.int64(1)), ('Healthy', np.int64(0)), ('Moderate Stress', np.int64(2)), ('Moderate Stress', np.int64(2)), ('High Stress', np.int64(1)), ('Moderate Stress', np.int64(2)), ('Moderate Stress', np.int64(2)), ('High Stress', np.int64(1)), ('Healthy', np.int64(0)), ('High Stress', np.int64(1)), ('Moderate Stress', np.int64(2)), ('High Stress', np.int64(1)), ('Moderate Stress', np.int64(2)), ('High Stress', np.int64(1)), ('Moderate Stress', np.int64(2)), ('Moderate Stress', np.int64(2)), ('High Stress', np.int64(1)), ('High Stress', np.int64(1)), ('Moderate Stress', np.int64(2)), ('Moderate Stress', np.int64(2)), ('High Stress', np.int64(1)), ('High Stress', np.int64(1)), ('High Stress', np.int64(1)), ('High Stress', np.int64(1)), ('Moderate Stress', np.int64(2)), ('High Stress', np.int64(1)), ('Moderate Stress', np.int64(2)), ('High Stress', np.int64(1)), ('High Stress', np.int64(1)), ('Moderate Stress', np.int64(2)), ('Moderate Stress', np.int64(2)), ('Moderate Stress', np.int64(2)), ('High Stress', np.int64(1)), ('Healthy', np.int64(0)), ('Healthy', np.int64(0)), ('Moderate Stress', np.int64(2)), ('Moderate Stress', np.int64(2)), ('Moderate Stress', np.int64(2)), ('High Stress', np.int64(1)), ('High Stress', np.int64(1)), ('High Stress', np.int64(1)), ('Healthy', np.int64(0)), ('High Stress', np.int64(1)), ('Healthy', np.int64(0)), ('High Stress', np.int64(1)), ('Healthy', np.int64(0)), ('Moderate Stress', np.int64(2)), ('Healthy', np.int64(0)), ('Moderate Stress', np.int64(2)), ('Moderate Stress', np.int64(2)), ('Healthy', np.int64(0)), ('High Stress', np.int64(1)), ('Healthy', np.int64(0)), ('Moderate Stress', np.int64(2)), ('Moderate Stress', np.int64(2)), ('Healthy', np.int64(0)), ('Moderate Stress', np.int64(2)), ('Moderate Stress', np.int64(2)), ('Moderate Stress', np.int64(2)), ('Healthy', np.int64(0)), ('Moderate Stress', np.int64(2)), ('High Stress', np.int64(1)), ('Healthy', np.int64(0)), ('Moderate Stress', np.int64(2)), ('Moderate Stress', np.int64(2)), ('Moderate Stress', np.int64(2)), ('Moderate Stress', np.int64(2)), ('High Stress', np.int64(1)), ('Moderate Stress', np.int64(2)), ('Healthy', np.int64(0)), ('High Stress', np.int64(1)), ('Moderate Stress', np.int64(2)), ('Moderate Stress', np.int64(2)), ('High Stress', np.int64(1)), ('Moderate Stress', np.int64(2)), ('High Stress', np.int64(1)), ('Healthy', np.int64(0)), ('High Stress', np.int64(1)), ('Moderate Stress', np.int64(2)), ('Healthy', np.int64(0)), ('High Stress', np.int64(1)), ('Healthy', np.int64(0)), ('High Stress', np.int64(1)), ('High Stress', np.int64(1)), ('Healthy', np.int64(0)), ('High Stress', np.int64(1)), ('Healthy', np.int64(0)), ('Healthy', np.int64(0)), ('Healthy', np.int64(0)), ('Healthy', np.int64(0)), ('Healthy', np.int64(0)), ('Moderate Stress', np.int64(2)), ('High Stress', np.int64(1)), ('High Stress', np.int64(1)), ('Moderate Stress', np.int64(2)), ('Moderate Stress', np.int64(2)), ('High Stress', np.int64(1)), ('Healthy', np.int64(0)), ('High Stress', np.int64(1)), ('Healthy', np.int64(0)), ('Healthy', np.int64(0)), ('Healthy', np.int64(0)), ('High Stress', np.int64(1)), ('High Stress', np.int64(1)), ('Healthy', np.int64(0)), ('Moderate Stress', np.int64(2)), ('High Stress', np.int64(1)), ('Healthy', np.int64(0)), ('Healthy', np.int64(0)), ('Moderate Stress', np.int64(2)), ('Moderate Stress', np.int64(2)), ('High Stress', np.int64(1)), ('Healthy', np.int64(0)), ('High Stress', np.int64(1)), ('High Stress', np.int64(1)), ('High Stress', np.int64(1)), ('Moderate Stress', np.int64(2)), ('Healthy', np.int64(0)), ('Healthy', np.int64(0)), ('Healthy', np.int64(0)), ('High Stress', np.int64(1)), ('Moderate Stress', np.int64(2)), ('Moderate Stress', np.int64(2)), ('High Stress', np.int64(1)), ('High Stress', np.int64(1)), ('Moderate Stress', np.int64(2)), ('High Stress', np.int64(1)), ('High Stress', np.int64(1)), ('High Stress', np.int64(1)), ('Healthy', np.int64(0)), ('Moderate Stress', np.int64(2)), ('Moderate Stress', np.int64(2)), ('Healthy', np.int64(0)), ('High Stress', np.int64(1)), ('High Stress', np.int64(1)), ('Moderate Stress', np.int64(2)), ('Moderate Stress', np.int64(2)), ('High Stress', np.int64(1)), ('Moderate Stress', np.int64(2)), ('High Stress', np.int64(1)), ('High Stress', np.int64(1)), ('Healthy', np.int64(0)), ('Healthy', np.int64(0)), ('Moderate Stress', np.int64(2)), ('High Stress', np.int64(1)), ('High Stress', np.int64(1)), ('High Stress', np.int64(1)), ('High Stress', np.int64(1)), ('High Stress', np.int64(1)), ('Moderate Stress', np.int64(2)), ('High Stress', np.int64(1)), ('High Stress', np.int64(1)), ('Healthy', np.int64(0)), ('Moderate Stress', np.int64(2)), ('Healthy', np.int64(0)), ('High Stress', np.int64(1)), ('High Stress', np.int64(1)), ('High Stress', np.int64(1)), ('Healthy', np.int64(0)), ('High Stress', np.int64(1)), ('High Stress', np.int64(1)), ('High Stress', np.int64(1)), ('Moderate Stress', np.int64(2)), ('High Stress', np.int64(1)), ('High Stress', np.int64(1)), ('High Stress', np.int64(1)), ('Moderate Stress', np.int64(2)), ('High Stress', np.int64(1)), ('Moderate Stress', np.int64(2)), ('Moderate Stress', np.int64(2)), ('Healthy', np.int64(0)), ('Moderate Stress', np.int64(2)), ('High Stress', np.int64(1)), ('Healthy', np.int64(0)), ('Moderate Stress', np.int64(2)), ('High Stress', np.int64(1)), ('Moderate Stress', np.int64(2)), ('Moderate Stress', np.int64(2)), ('High Stress', np.int64(1)), ('High Stress', np.int64(1)), ('High Stress', np.int64(1)), ('Moderate Stress', np.int64(2)), ('High Stress', np.int64(1)), ('Moderate Stress', np.int64(2)), ('High Stress', np.int64(1)), ('High Stress', np.int64(1)), ('High Stress', np.int64(1)), ('High Stress', np.int64(1)), ('Moderate Stress', np.int64(2)), ('Healthy', np.int64(0)), ('Moderate Stress', np.int64(2)), ('High Stress', np.int64(1)), ('High Stress', np.int64(1)), ('Moderate Stress', np.int64(2)), ('Healthy', np.int64(0)), ('High Stress', np.int64(1)), ('Moderate Stress', np.int64(2)), ('Healthy', np.int64(0)), ('High Stress', np.int64(1)), ('High Stress', np.int64(1)), ('High Stress', np.int64(1)), ('Healthy', np.int64(0)), ('Moderate Stress', np.int64(2)), ('High Stress', np.int64(1)), ('Healthy', np.int64(0)), ('Healthy', np.int64(0)), ('Moderate Stress', np.int64(2)), ('High Stress', np.int64(1)), ('Healthy', np.int64(0)), ('High Stress', np.int64(1)), ('High Stress', np.int64(1)), ('Moderate Stress', np.int64(2)), ('High Stress', np.int64(1)), ('High Stress', np.int64(1)), ('Moderate Stress', np.int64(2)), ('Healthy', np.int64(0)), ('High Stress', np.int64(1)), ('High Stress', np.int64(1)), ('Healthy', np.int64(0)), ('Moderate Stress', np.int64(2)), ('Healthy', np.int64(0)), ('High Stress', np.int64(1)), ('Moderate Stress', np.int64(2)), ('Healthy', np.int64(0)), ('Moderate Stress', np.int64(2)), ('Moderate Stress', np.int64(2)), ('Healthy', np.int64(0)), ('Healthy', np.int64(0)), ('High Stress', np.int64(1)), ('Healthy', np.int64(0)), ('Moderate Stress', np.int64(2)), ('High Stress', np.int64(1)), ('Healthy', np.int64(0)), ('Moderate Stress', np.int64(2)), ('Moderate Stress', np.int64(2)), ('Healthy', np.int64(0)), ('High Stress', np.int64(1)), ('High Stress', np.int64(1)), ('High Stress', np.int64(1)), ('Healthy', np.int64(0)), ('Moderate Stress', np.int64(2)), ('High Stress', np.int64(1)), ('Moderate Stress', np.int64(2)), ('High Stress', np.int64(1)), ('Healthy', np.int64(0)), ('High Stress', np.int64(1)), ('High Stress', np.int64(1)), ('Moderate Stress', np.int64(2)), ('High Stress', np.int64(1)), ('Healthy', np.int64(0)), ('Healthy', np.int64(0)), ('Moderate Stress', np.int64(2)), ('Moderate Stress', np.int64(2)), ('Moderate Stress', np.int64(2)), ('Moderate Stress', np.int64(2)), ('Moderate Stress', np.int64(2)), ('High Stress', np.int64(1)), ('High Stress', np.int64(1)), ('High Stress', np.int64(1)), ('High Stress', np.int64(1)), ('Healthy', np.int64(0)), ('High Stress', np.int64(1)), ('Moderate Stress', np.int64(2)), ('High Stress', np.int64(1)), ('High Stress', np.int64(1)), ('Moderate Stress', np.int64(2)), ('Healthy', np.int64(0)), ('Healthy', np.int64(0)), ('High Stress', np.int64(1)), ('High Stress', np.int64(1)), ('Moderate Stress', np.int64(2)), ('High Stress', np.int64(1)), ('Moderate Stress', np.int64(2)), ('Moderate Stress', np.int64(2)), ('High Stress', np.int64(1)), ('Healthy', np.int64(0)), ('High Stress', np.int64(1)), ('Moderate Stress', np.int64(2)), ('Moderate Stress', np.int64(2)), ('Moderate Stress', np.int64(2)), ('High Stress', np.int64(1)), ('High Stress', np.int64(1)), ('High Stress', np.int64(1)), ('High Stress', np.int64(1)), ('Moderate Stress', np.int64(2)), ('Healthy', np.int64(0)), ('High Stress', np.int64(1)), ('Moderate Stress', np.int64(2)), ('Moderate Stress', np.int64(2)), ('Healthy', np.int64(0)), ('High Stress', np.int64(1)), ('Healthy', np.int64(0)), ('High Stress', np.int64(1)), ('Moderate Stress', np.int64(2)), ('High Stress', np.int64(1)), ('Healthy', np.int64(0)), ('High Stress', np.int64(1)), ('Moderate Stress', np.int64(2)), ('Moderate Stress', np.int64(2)), ('High Stress', np.int64(1)), ('Moderate Stress', np.int64(2)), ('Moderate Stress', np.int64(2)), ('Moderate Stress', np.int64(2)), ('High Stress', np.int64(1)), ('High Stress', np.int64(1)), ('Moderate Stress', np.int64(2)), ('High Stress', np.int64(1)), ('Healthy', np.int64(0)), ('Moderate Stress', np.int64(2)), ('High Stress', np.int64(1)), ('Healthy', np.int64(0)), ('Healthy', np.int64(0)), ('High Stress', np.int64(1)), ('Moderate Stress', np.int64(2)), ('High Stress', np.int64(1)), ('High Stress', np.int64(1)), ('High Stress', np.int64(1)), ('High Stress', np.int64(1)), ('Healthy', np.int64(0)), ('High Stress', np.int64(1)), ('High Stress', np.int64(1)), ('High Stress', np.int64(1)), ('High Stress', np.int64(1)), ('High Stress', np.int64(1)), ('High Stress', np.int64(1)), ('Moderate Stress', np.int64(2)), ('Healthy', np.int64(0)), ('High Stress', np.int64(1)), ('High Stress', np.int64(1)), ('Moderate Stress', np.int64(2)), ('High Stress', np.int64(1)), ('Moderate Stress', np.int64(2)), ('Healthy', np.int64(0)), ('High Stress', np.int64(1)), ('High Stress', np.int64(1)), ('Healthy', np.int64(0)), ('High Stress', np.int64(1)), ('High Stress', np.int64(1)), ('Moderate Stress', np.int64(2)), ('High Stress', np.int64(1)), ('Moderate Stress', np.int64(2)), ('Moderate Stress', np.int64(2)), ('Healthy', np.int64(0)), ('Moderate Stress', np.int64(2)), ('Moderate Stress', np.int64(2)), ('Healthy', np.int64(0)), ('High Stress', np.int64(1)), ('High Stress', np.int64(1)), ('Healthy', np.int64(0)), ('Moderate Stress', np.int64(2)), ('High Stress', np.int64(1)), ('Moderate Stress', np.int64(2)), ('Healthy', np.int64(0)), ('High Stress', np.int64(1)), ('High Stress', np.int64(1)), ('Moderate Stress', np.int64(2)), ('Healthy', np.int64(0)), ('Moderate Stress', np.int64(2)), ('High Stress', np.int64(1)), ('Moderate Stress', np.int64(2)), ('Moderate Stress', np.int64(2)), ('Healthy', np.int64(0)), ('High Stress', np.int64(1)), ('Healthy', np.int64(0)), ('High Stress', np.int64(1)), ('High Stress', np.int64(1)), ('Healthy', np.int64(0)), ('Moderate Stress', np.int64(2)), ('High Stress', np.int64(1)), ('High Stress', np.int64(1)), ('Moderate Stress', np.int64(2)), ('High Stress', np.int64(1)), ('High Stress', np.int64(1)), ('High Stress', np.int64(1)), ('High Stress', np.int64(1)), ('Moderate Stress', np.int64(2)), ('Healthy', np.int64(0)), ('High Stress', np.int64(1)), ('High Stress', np.int64(1)), ('Healthy', np.int64(0)), ('High Stress', np.int64(1)), ('Moderate Stress', np.int64(2)), ('Moderate Stress', np.int64(2)), ('High Stress', np.int64(1)), ('High Stress', np.int64(1)), ('Moderate Stress', np.int64(2)), ('High Stress', np.int64(1)), ('Moderate Stress', np.int64(2)), ('Moderate Stress', np.int64(2)), ('Moderate Stress', np.int64(2)), ('High Stress', np.int64(1)), ('High Stress', np.int64(1)), ('High Stress', np.int64(1)), ('Healthy', np.int64(0)), ('High Stress', np.int64(1)), ('High Stress', np.int64(1)), ('Healthy', np.int64(0)), ('Moderate Stress', np.int64(2)), ('Healthy', np.int64(0)), ('High Stress', np.int64(1)), ('Healthy', np.int64(0)), ('Moderate Stress', np.int64(2)), ('Healthy', np.int64(0)), ('High Stress', np.int64(1)), ('Moderate Stress', np.int64(2)), ('High Stress', np.int64(1)), ('High Stress', np.int64(1)), ('Moderate Stress', np.int64(2)), ('Healthy', np.int64(0)), ('Healthy', np.int64(0)), ('Moderate Stress', np.int64(2)), ('Moderate Stress', np.int64(2)), ('Moderate Stress', np.int64(2)), ('Moderate Stress', np.int64(2)), ('High Stress', np.int64(1)), ('High Stress', np.int64(1)), ('Healthy', np.int64(0)), ('High Stress', np.int64(1)), ('High Stress', np.int64(1)), ('Healthy', np.int64(0)), ('High Stress', np.int64(1)), ('Healthy', np.int64(0)), ('Healthy', np.int64(0)), ('Moderate Stress', np.int64(2)), ('High Stress', np.int64(1)), ('Moderate Stress', np.int64(2)), ('Moderate Stress', np.int64(2)), ('High Stress', np.int64(1)), ('High Stress', np.int64(1)), ('Moderate Stress', np.int64(2)), ('High Stress', np.int64(1)), ('Moderate Stress', np.int64(2)), ('Moderate Stress', np.int64(2)), ('Moderate Stress', np.int64(2)), ('Healthy', np.int64(0)), ('High Stress', np.int64(1)), ('High Stress', np.int64(1)), ('High Stress', np.int64(1)), ('Moderate Stress', np.int64(2)), ('High Stress', np.int64(1)), ('High Stress', np.int64(1)), ('High Stress', np.int64(1)), ('High Stress', np.int64(1)), ('High Stress', np.int64(1)), ('Healthy', np.int64(0)), ('Moderate Stress', np.int64(2)), ('Moderate Stress', np.int64(2)), ('High Stress', np.int64(1)), ('Healthy', np.int64(0)), ('High Stress', np.int64(1)), ('High Stress', np.int64(1)), ('High Stress', np.int64(1)), ('High Stress', np.int64(1)), ('Moderate Stress', np.int64(2)), ('High Stress', np.int64(1)), ('Moderate Stress', np.int64(2)), ('Moderate Stress', np.int64(2)), ('Healthy', np.int64(0)), ('Healthy', np.int64(0)), ('High Stress', np.int64(1)), ('Moderate Stress', np.int64(2)), ('Moderate Stress', np.int64(2)), ('Moderate Stress', np.int64(2)), ('Moderate Stress', np.int64(2)), ('Moderate Stress', np.int64(2)), ('Healthy', np.int64(0)), ('Moderate Stress', np.int64(2)), ('Healthy', np.int64(0)), ('High Stress', np.int64(1)), ('Healthy', np.int64(0)), ('Moderate Stress', np.int64(2)), ('High Stress', np.int64(1)), ('High Stress', np.int64(1)), ('Moderate Stress', np.int64(2)), ('Healthy', np.int64(0)), ('Healthy', np.int64(0)), ('Moderate Stress', np.int64(2)), ('High Stress', np.int64(1)), ('Moderate Stress', np.int64(2)), ('High Stress', np.int64(1)), ('High Stress', np.int64(1)), ('High Stress', np.int64(1)), ('Healthy', np.int64(0)), ('High Stress', np.int64(1)), ('High Stress', np.int64(1)), ('High Stress', np.int64(1)), ('Healthy', np.int64(0)), ('High Stress', np.int64(1)), ('High Stress', np.int64(1)), ('Moderate Stress', np.int64(2)), ('Healthy', np.int64(0)), ('Moderate Stress', np.int64(2)), ('Healthy', np.int64(0)), ('High Stress', np.int64(1)), ('Moderate Stress', np.int64(2)), ('High Stress', np.int64(1)), ('Moderate Stress', np.int64(2)), ('High Stress', np.int64(1)), ('Moderate Stress', np.int64(2)), ('Moderate Stress', np.int64(2)), ('High Stress', np.int64(1)), ('Moderate Stress', np.int64(2)), ('Healthy', np.int64(0)), ('High Stress', np.int64(1)), ('High Stress', np.int64(1)), ('High Stress', np.int64(1)), ('Moderate Stress', np.int64(2)), ('High Stress', np.int64(1)), ('Healthy', np.int64(0)), ('High Stress', np.int64(1)), ('Healthy', np.int64(0)), ('Healthy', np.int64(0)), ('Moderate Stress', np.int64(2)), ('Moderate Stress', np.int64(2)), ('High Stress', np.int64(1)), ('Moderate Stress', np.int64(2)), ('High Stress', np.int64(1)), ('High Stress', np.int64(1)), ('Healthy', np.int64(0)), ('Healthy', np.int64(0)), ('High Stress', np.int64(1)), ('Healthy', np.int64(0)), ('Moderate Stress', np.int64(2)), ('High Stress', np.int64(1)), ('High Stress', np.int64(1)), ('Moderate Stress', np.int64(2)), ('High Stress', np.int64(1)), ('Moderate Stress', np.int64(2)), ('Healthy', np.int64(0)), ('Healthy', np.int64(0)), ('Healthy', np.int64(0)), ('Healthy', np.int64(0)), ('Healthy', np.int64(0)), ('High Stress', np.int64(1)), ('High Stress', np.int64(1)), ('Moderate Stress', np.int64(2)), ('Moderate Stress', np.int64(2)), ('Moderate Stress', np.int64(2)), ('High Stress', np.int64(1)), ('Healthy', np.int64(0)), ('Moderate Stress', np.int64(2)), ('High Stress', np.int64(1)), ('Moderate Stress', np.int64(2)), ('Healthy', np.int64(0)), ('Moderate Stress', np.int64(2))]\n"
          ]
        }
      ]
    }
  ],
  "metadata": {
    "colab": {
      "provenance": [],
      "include_colab_link": true
    },
    "kernelspec": {
      "display_name": "Python 3",
      "name": "python3"
    },
    "language_info": {
      "name": "python"
    }
  },
  "nbformat": 4,
  "nbformat_minor": 0
}