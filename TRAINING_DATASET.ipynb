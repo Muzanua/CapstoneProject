{
  "cells": [
    {
      "cell_type": "markdown",
      "metadata": {
        "id": "view-in-github",
        "colab_type": "text"
      },
      "source": [
        "<a href=\"https://colab.research.google.com/github/Muzanua/CapstoneProject/blob/main/TRAINING_DATASET.ipynb\" target=\"_parent\"><img src=\"https://colab.research.google.com/assets/colab-badge.svg\" alt=\"Open In Colab\"/></a>"
      ]
    },
    {
      "cell_type": "code",
      "execution_count": null,
      "metadata": {
        "colab": {
          "base_uri": "https://localhost:8080/"
        },
        "id": "S3yhS5V45j_B",
        "outputId": "205579d4-e132-4a23-fdf5-a425795b800a"
      },
      "outputs": [
        {
          "output_type": "stream",
          "name": "stdout",
          "text": [
            "Index(['Timestamp', 'Plant_ID', 'Soil_Moisture', 'Ambient_Temperature',\n",
            "       'Soil_Temperature', 'Humidity', 'Light_Intensity', 'Soil_pH',\n",
            "       'Nitrogen_Level', 'Phosphorus_Level', 'Potassium_Level',\n",
            "       'Chlorophyll_Content', 'Electrochemical_Signal', 'Plant_Health_Status'],\n",
            "      dtype='object')\n"
          ]
        }
      ],
      "source": [
        "import pandas as pd\n",
        "\n",
        "df = pd.read_csv('plant_health_data.csv')\n",
        "print(df.columns)"
      ]
    },
    {
      "cell_type": "code",
      "execution_count": null,
      "metadata": {
        "id": "37p_1xQ164z3",
        "colab": {
          "base_uri": "https://localhost:8080/"
        },
        "collapsed": true,
        "outputId": "180264bf-fe2b-4a16-e6e4-b82b4e7652f5"
      },
      "outputs": [
        {
          "output_type": "stream",
          "name": "stdout",
          "text": [
            "          Plant_ID  Soil_Moisture  Ambient_Temperature  Soil_Temperature  \\\n",
            "count  1200.000000    1200.000000          1200.000000       1200.000000   \n",
            "mean      5.500000      25.106918            23.999130         19.957794   \n",
            "std       2.873479       8.677725             3.441561          2.932073   \n",
            "min       1.000000      10.000724            18.001993         15.003710   \n",
            "25%       3.000000      17.131893            21.101766         17.353027   \n",
            "50%       5.500000      25.168333            23.889044         19.911473   \n",
            "75%       8.000000      32.370231            27.042634         22.596851   \n",
            "max      10.000000      39.993164            29.990886         24.995929   \n",
            "\n",
            "          Humidity  Light_Intensity      Soil_pH  Nitrogen_Level  \\\n",
            "count  1200.000000      1200.000000  1200.000000     1200.000000   \n",
            "mean     54.853165       612.637265     6.524102       30.106751   \n",
            "std       8.784916       228.318853     0.581755       11.514396   \n",
            "min      40.028758       200.615482     5.507392       10.003650   \n",
            "25%      47.019694       416.878983     6.026042       20.249774   \n",
            "50%      54.692069       617.240221     6.540524       30.138590   \n",
            "75%      62.451053       811.474690     7.030039       40.184737   \n",
            "max      69.968871       999.856262     7.497823       49.951136   \n",
            "\n",
            "       Phosphorus_Level  Potassium_Level  Chlorophyll_Content  \\\n",
            "count       1200.000000      1200.000000          1200.000000   \n",
            "mean          30.264484        30.112088            34.749591   \n",
            "std           11.466846        11.668085             8.766995   \n",
            "min           10.017690        10.000606            20.025511   \n",
            "25%           20.894445        19.585561            27.463350   \n",
            "50%           30.019385        30.495054            34.433427   \n",
            "75%           40.131459        40.108296            42.232637   \n",
            "max           49.980700        49.981945            49.990811   \n",
            "\n",
            "       Electrochemical_Signal  \n",
            "count             1200.000000  \n",
            "mean                 0.987764  \n",
            "std                  0.575116  \n",
            "min                  0.002376  \n",
            "25%                  0.487982  \n",
            "50%                  0.981647  \n",
            "75%                  1.473142  \n",
            "max                  1.996116  \n",
            "                     Soil_Moisture  Ambient_Temperature  Humidity\n",
            "Soil_Moisture             1.000000            -0.009344  0.053876\n",
            "Ambient_Temperature      -0.009344             1.000000  0.003921\n",
            "Humidity                  0.053876             0.003921  1.000000\n"
          ]
        }
      ],
      "source": [
        "print(df.describe())\n",
        "print(df[['Soil_Moisture', 'Ambient_Temperature', 'Humidity']].corr())"
      ]
    },
    {
      "cell_type": "code",
      "source": [
        "# ==========================================\n",
        "# STEP 1: Import Library\n",
        "# ==========================================\n",
        "import pandas as pd\n",
        "import numpy as np\n",
        "from sklearn.preprocessing import MinMaxScaler, LabelEncoder\n",
        "from sklearn.model_selection import train_test_split\n",
        "from tensorflow.keras.utils import to_categorical\n",
        "import tensorflow as tf\n",
        "from tensorflow.keras import layers\n",
        "\n",
        "# ==========================================\n",
        "# STEP 2: Load Data\n",
        "# ==========================================\n",
        "df = pd.read_csv('plant_health_data.csv')\n",
        "\n",
        "# Pilih fitur dan target\n",
        "X = df[['Soil_Moisture', 'Ambient_Temperature', 'Humidity']].values\n",
        "y = df['Plant_Health_Status'].values  # Kategorikal\n",
        "\n",
        "# ==========================================\n",
        "# STEP 3: Preprocessing Label\n",
        "# ==========================================\n",
        "label_encoder = LabelEncoder()\n",
        "y_encoded = label_encoder.fit_transform(y)       # 'Healthy' → 0, dst\n",
        "y_categorical = to_categorical(y_encoded, num_classes=3)\n",
        "\n",
        "# ==========================================\n",
        "# STEP 4: Normalisasi Input\n",
        "# ==========================================\n",
        "scaler = MinMaxScaler()\n",
        "X_scaled = scaler.fit_transform(X)\n",
        "\n",
        "# ==========================================\n",
        "# STEP 5: Train/Val/Test Split\n",
        "# ==========================================\n",
        "X_train, X_test, y_train, y_test = train_test_split(X_scaled, y_categorical, test_size=0.3, random_state=42)\n",
        "X_train, X_val, y_train, y_val = train_test_split(X_train, y_train, test_size=0.2, random_state=42)\n",
        "\n",
        "# ==========================================\n",
        "# STEP 6: Build Model\n",
        "# ==========================================\n",
        "def build_model(input_shape, num_classes):\n",
        "    model = tf.keras.Sequential([\n",
        "        tf.keras.Input(shape=input_shape),\n",
        "        layers.Dense(32, activation='relu'),\n",
        "        layers.Dense(16, activation='relu'),\n",
        "        layers.Dense(num_classes, activation='softmax')\n",
        "    ])\n",
        "    model.compile(optimizer='adam', loss='categorical_crossentropy', metrics=['accuracy'])\n",
        "    return model\n",
        "\n",
        "model = build_model((3,), 3)\n",
        "\n",
        "# ==========================================\n",
        "# STEP 7: Train\n",
        "# ==========================================\n",
        "model.fit(X_train, y_train, epochs=50, batch_size=16, validation_data=(X_val, y_val), verbose=1)\n",
        "\n",
        "# ==========================================\n",
        "# STEP 8: Convert to TFLite\n",
        "# ==========================================\n",
        "converter = tf.lite.TFLiteConverter.from_keras_model(model)\n",
        "tflite_model = converter.convert()\n",
        "\n",
        "with open(\"PlantHealth.tflite\", \"wb\") as f:\n",
        "    f.write(tflite_model)\n",
        "\n",
        "# ==========================================\n",
        "# STEP 9: Convert to .h\n",
        "# ==========================================\n",
        "!xxd -i PlantHealth.tflite > PlantHealth.h\n"
      ],
      "metadata": {
        "id": "9PPoG6n_DQdh",
        "colab": {
          "base_uri": "https://localhost:8080/"
        },
        "outputId": "220c61d1-5db9-4927-f20f-282f4f99cdc5"
      },
      "execution_count": null,
      "outputs": [
        {
          "output_type": "stream",
          "name": "stdout",
          "text": [
            "Epoch 1/50\n",
            "\u001b[1m42/42\u001b[0m \u001b[32m━━━━━━━━━━━━━━━━━━━━\u001b[0m\u001b[37m\u001b[0m \u001b[1m3s\u001b[0m 22ms/step - accuracy: 0.3746 - loss: 1.0983 - val_accuracy: 0.3571 - val_loss: 1.0906\n",
            "Epoch 2/50\n",
            "\u001b[1m42/42\u001b[0m \u001b[32m━━━━━━━━━━━━━━━━━━━━\u001b[0m\u001b[37m\u001b[0m \u001b[1m1s\u001b[0m 4ms/step - accuracy: 0.4894 - loss: 1.0649 - val_accuracy: 0.4286 - val_loss: 1.0700\n",
            "Epoch 3/50\n",
            "\u001b[1m42/42\u001b[0m \u001b[32m━━━━━━━━━━━━━━━━━━━━\u001b[0m\u001b[37m\u001b[0m \u001b[1m0s\u001b[0m 4ms/step - accuracy: 0.5304 - loss: 1.0295 - val_accuracy: 0.4702 - val_loss: 1.0318\n",
            "Epoch 4/50\n",
            "\u001b[1m42/42\u001b[0m \u001b[32m━━━━━━━━━━━━━━━━━━━━\u001b[0m\u001b[37m\u001b[0m \u001b[1m0s\u001b[0m 4ms/step - accuracy: 0.5572 - loss: 0.9860 - val_accuracy: 0.5476 - val_loss: 0.9726\n",
            "Epoch 5/50\n",
            "\u001b[1m42/42\u001b[0m \u001b[32m━━━━━━━━━━━━━━━━━━━━\u001b[0m\u001b[37m\u001b[0m \u001b[1m0s\u001b[0m 4ms/step - accuracy: 0.5787 - loss: 0.9252 - val_accuracy: 0.5833 - val_loss: 0.9033\n",
            "Epoch 6/50\n",
            "\u001b[1m42/42\u001b[0m \u001b[32m━━━━━━━━━━━━━━━━━━━━\u001b[0m\u001b[37m\u001b[0m \u001b[1m0s\u001b[0m 4ms/step - accuracy: 0.6354 - loss: 0.8445 - val_accuracy: 0.6548 - val_loss: 0.8317\n",
            "Epoch 7/50\n",
            "\u001b[1m42/42\u001b[0m \u001b[32m━━━━━━━━━━━━━━━━━━━━\u001b[0m\u001b[37m\u001b[0m \u001b[1m0s\u001b[0m 4ms/step - accuracy: 0.6634 - loss: 0.7959 - val_accuracy: 0.6548 - val_loss: 0.7834\n",
            "Epoch 8/50\n",
            "\u001b[1m42/42\u001b[0m \u001b[32m━━━━━━━━━━━━━━━━━━━━\u001b[0m\u001b[37m\u001b[0m \u001b[1m0s\u001b[0m 4ms/step - accuracy: 0.7455 - loss: 0.7117 - val_accuracy: 0.6548 - val_loss: 0.7472\n",
            "Epoch 9/50\n",
            "\u001b[1m42/42\u001b[0m \u001b[32m━━━━━━━━━━━━━━━━━━━━\u001b[0m\u001b[37m\u001b[0m \u001b[1m0s\u001b[0m 4ms/step - accuracy: 0.7210 - loss: 0.7258 - val_accuracy: 0.6786 - val_loss: 0.7170\n",
            "Epoch 10/50\n",
            "\u001b[1m42/42\u001b[0m \u001b[32m━━━━━━━━━━━━━━━━━━━━\u001b[0m\u001b[37m\u001b[0m \u001b[1m0s\u001b[0m 4ms/step - accuracy: 0.7364 - loss: 0.6740 - val_accuracy: 0.6786 - val_loss: 0.6955\n",
            "Epoch 11/50\n",
            "\u001b[1m42/42\u001b[0m \u001b[32m━━━━━━━━━━━━━━━━━━━━\u001b[0m\u001b[37m\u001b[0m \u001b[1m0s\u001b[0m 4ms/step - accuracy: 0.7917 - loss: 0.6133 - val_accuracy: 0.7083 - val_loss: 0.6792\n",
            "Epoch 12/50\n",
            "\u001b[1m42/42\u001b[0m \u001b[32m━━━━━━━━━━━━━━━━━━━━\u001b[0m\u001b[37m\u001b[0m \u001b[1m0s\u001b[0m 4ms/step - accuracy: 0.7524 - loss: 0.6411 - val_accuracy: 0.7619 - val_loss: 0.6544\n",
            "Epoch 13/50\n",
            "\u001b[1m42/42\u001b[0m \u001b[32m━━━━━━━━━━━━━━━━━━━━\u001b[0m\u001b[37m\u001b[0m \u001b[1m0s\u001b[0m 4ms/step - accuracy: 0.8036 - loss: 0.5727 - val_accuracy: 0.7619 - val_loss: 0.6395\n",
            "Epoch 14/50\n",
            "\u001b[1m42/42\u001b[0m \u001b[32m━━━━━━━━━━━━━━━━━━━━\u001b[0m\u001b[37m\u001b[0m \u001b[1m0s\u001b[0m 4ms/step - accuracy: 0.7865 - loss: 0.6092 - val_accuracy: 0.7917 - val_loss: 0.6268\n",
            "Epoch 15/50\n",
            "\u001b[1m42/42\u001b[0m \u001b[32m━━━━━━━━━━━━━━━━━━━━\u001b[0m\u001b[37m\u001b[0m \u001b[1m0s\u001b[0m 4ms/step - accuracy: 0.7958 - loss: 0.5762 - val_accuracy: 0.7917 - val_loss: 0.6150\n",
            "Epoch 16/50\n",
            "\u001b[1m42/42\u001b[0m \u001b[32m━━━━━━━━━━━━━━━━━━━━\u001b[0m\u001b[37m\u001b[0m \u001b[1m0s\u001b[0m 5ms/step - accuracy: 0.8262 - loss: 0.5479 - val_accuracy: 0.8095 - val_loss: 0.6031\n",
            "Epoch 17/50\n",
            "\u001b[1m42/42\u001b[0m \u001b[32m━━━━━━━━━━━━━━━━━━━━\u001b[0m\u001b[37m\u001b[0m \u001b[1m0s\u001b[0m 5ms/step - accuracy: 0.7801 - loss: 0.5631 - val_accuracy: 0.8274 - val_loss: 0.5951\n",
            "Epoch 18/50\n",
            "\u001b[1m42/42\u001b[0m \u001b[32m━━━━━━━━━━━━━━━━━━━━\u001b[0m\u001b[37m\u001b[0m \u001b[1m0s\u001b[0m 4ms/step - accuracy: 0.8178 - loss: 0.5424 - val_accuracy: 0.7679 - val_loss: 0.5932\n",
            "Epoch 19/50\n",
            "\u001b[1m42/42\u001b[0m \u001b[32m━━━━━━━━━━━━━━━━━━━━\u001b[0m\u001b[37m\u001b[0m \u001b[1m0s\u001b[0m 4ms/step - accuracy: 0.8285 - loss: 0.5102 - val_accuracy: 0.8155 - val_loss: 0.5800\n",
            "Epoch 20/50\n",
            "\u001b[1m42/42\u001b[0m \u001b[32m━━━━━━━━━━━━━━━━━━━━\u001b[0m\u001b[37m\u001b[0m \u001b[1m0s\u001b[0m 5ms/step - accuracy: 0.7930 - loss: 0.5663 - val_accuracy: 0.8393 - val_loss: 0.5730\n",
            "Epoch 21/50\n",
            "\u001b[1m42/42\u001b[0m \u001b[32m━━━━━━━━━━━━━━━━━━━━\u001b[0m\u001b[37m\u001b[0m \u001b[1m0s\u001b[0m 4ms/step - accuracy: 0.7957 - loss: 0.5374 - val_accuracy: 0.8333 - val_loss: 0.5661\n",
            "Epoch 22/50\n",
            "\u001b[1m42/42\u001b[0m \u001b[32m━━━━━━━━━━━━━━━━━━━━\u001b[0m\u001b[37m\u001b[0m \u001b[1m0s\u001b[0m 4ms/step - accuracy: 0.8450 - loss: 0.5272 - val_accuracy: 0.8452 - val_loss: 0.5599\n",
            "Epoch 23/50\n",
            "\u001b[1m42/42\u001b[0m \u001b[32m━━━━━━━━━━━━━━━━━━━━\u001b[0m\u001b[37m\u001b[0m \u001b[1m0s\u001b[0m 4ms/step - accuracy: 0.8042 - loss: 0.5339 - val_accuracy: 0.8393 - val_loss: 0.5571\n",
            "Epoch 24/50\n",
            "\u001b[1m42/42\u001b[0m \u001b[32m━━━━━━━━━━━━━━━━━━━━\u001b[0m\u001b[37m\u001b[0m \u001b[1m0s\u001b[0m 4ms/step - accuracy: 0.8137 - loss: 0.5343 - val_accuracy: 0.7321 - val_loss: 0.5741\n",
            "Epoch 25/50\n",
            "\u001b[1m42/42\u001b[0m \u001b[32m━━━━━━━━━━━━━━━━━━━━\u001b[0m\u001b[37m\u001b[0m \u001b[1m0s\u001b[0m 4ms/step - accuracy: 0.8141 - loss: 0.4864 - val_accuracy: 0.7679 - val_loss: 0.5571\n",
            "Epoch 26/50\n",
            "\u001b[1m42/42\u001b[0m \u001b[32m━━━━━━━━━━━━━━━━━━━━\u001b[0m\u001b[37m\u001b[0m \u001b[1m0s\u001b[0m 4ms/step - accuracy: 0.8093 - loss: 0.5109 - val_accuracy: 0.8274 - val_loss: 0.5468\n",
            "Epoch 27/50\n",
            "\u001b[1m42/42\u001b[0m \u001b[32m━━━━━━━━━━━━━━━━━━━━\u001b[0m\u001b[37m\u001b[0m \u001b[1m0s\u001b[0m 6ms/step - accuracy: 0.8141 - loss: 0.5056 - val_accuracy: 0.8274 - val_loss: 0.5420\n",
            "Epoch 28/50\n",
            "\u001b[1m42/42\u001b[0m \u001b[32m━━━━━━━━━━━━━━━━━━━━\u001b[0m\u001b[37m\u001b[0m \u001b[1m0s\u001b[0m 6ms/step - accuracy: 0.8188 - loss: 0.4913 - val_accuracy: 0.8333 - val_loss: 0.5359\n",
            "Epoch 29/50\n",
            "\u001b[1m42/42\u001b[0m \u001b[32m━━━━━━━━━━━━━━━━━━━━\u001b[0m\u001b[37m\u001b[0m \u001b[1m0s\u001b[0m 6ms/step - accuracy: 0.8473 - loss: 0.4630 - val_accuracy: 0.8274 - val_loss: 0.5363\n",
            "Epoch 30/50\n",
            "\u001b[1m42/42\u001b[0m \u001b[32m━━━━━━━━━━━━━━━━━━━━\u001b[0m\u001b[37m\u001b[0m \u001b[1m0s\u001b[0m 5ms/step - accuracy: 0.8082 - loss: 0.5145 - val_accuracy: 0.7976 - val_loss: 0.5347\n",
            "Epoch 31/50\n",
            "\u001b[1m42/42\u001b[0m \u001b[32m━━━━━━━━━━━━━━━━━━━━\u001b[0m\u001b[37m\u001b[0m \u001b[1m0s\u001b[0m 6ms/step - accuracy: 0.8597 - loss: 0.4577 - val_accuracy: 0.7917 - val_loss: 0.5340\n",
            "Epoch 32/50\n",
            "\u001b[1m42/42\u001b[0m \u001b[32m━━━━━━━━━━━━━━━━━━━━\u001b[0m\u001b[37m\u001b[0m \u001b[1m0s\u001b[0m 6ms/step - accuracy: 0.8169 - loss: 0.4796 - val_accuracy: 0.8274 - val_loss: 0.5295\n",
            "Epoch 33/50\n",
            "\u001b[1m42/42\u001b[0m \u001b[32m━━━━━━━━━━━━━━━━━━━━\u001b[0m\u001b[37m\u001b[0m \u001b[1m0s\u001b[0m 5ms/step - accuracy: 0.8519 - loss: 0.4307 - val_accuracy: 0.7679 - val_loss: 0.5432\n",
            "Epoch 34/50\n",
            "\u001b[1m42/42\u001b[0m \u001b[32m━━━━━━━━━━━━━━━━━━━━\u001b[0m\u001b[37m\u001b[0m \u001b[1m0s\u001b[0m 4ms/step - accuracy: 0.8168 - loss: 0.4810 - val_accuracy: 0.8512 - val_loss: 0.5190\n",
            "Epoch 35/50\n",
            "\u001b[1m42/42\u001b[0m \u001b[32m━━━━━━━━━━━━━━━━━━━━\u001b[0m\u001b[37m\u001b[0m \u001b[1m0s\u001b[0m 4ms/step - accuracy: 0.8612 - loss: 0.4469 - val_accuracy: 0.8095 - val_loss: 0.5271\n",
            "Epoch 36/50\n",
            "\u001b[1m42/42\u001b[0m \u001b[32m━━━━━━━━━━━━━━━━━━━━\u001b[0m\u001b[37m\u001b[0m \u001b[1m0s\u001b[0m 4ms/step - accuracy: 0.8297 - loss: 0.4657 - val_accuracy: 0.8095 - val_loss: 0.5225\n",
            "Epoch 37/50\n",
            "\u001b[1m42/42\u001b[0m \u001b[32m━━━━━━━━━━━━━━━━━━━━\u001b[0m\u001b[37m\u001b[0m \u001b[1m0s\u001b[0m 4ms/step - accuracy: 0.8522 - loss: 0.4198 - val_accuracy: 0.8274 - val_loss: 0.5199\n",
            "Epoch 38/50\n",
            "\u001b[1m42/42\u001b[0m \u001b[32m━━━━━━━━━━━━━━━━━━━━\u001b[0m\u001b[37m\u001b[0m \u001b[1m0s\u001b[0m 4ms/step - accuracy: 0.8547 - loss: 0.4264 - val_accuracy: 0.7798 - val_loss: 0.5283\n",
            "Epoch 39/50\n",
            "\u001b[1m42/42\u001b[0m \u001b[32m━━━━━━━━━━━━━━━━━━━━\u001b[0m\u001b[37m\u001b[0m \u001b[1m0s\u001b[0m 4ms/step - accuracy: 0.8125 - loss: 0.4658 - val_accuracy: 0.8452 - val_loss: 0.5126\n",
            "Epoch 40/50\n",
            "\u001b[1m42/42\u001b[0m \u001b[32m━━━━━━━━━━━━━━━━━━━━\u001b[0m\u001b[37m\u001b[0m \u001b[1m0s\u001b[0m 4ms/step - accuracy: 0.8207 - loss: 0.4654 - val_accuracy: 0.8571 - val_loss: 0.5108\n",
            "Epoch 41/50\n",
            "\u001b[1m42/42\u001b[0m \u001b[32m━━━━━━━━━━━━━━━━━━━━\u001b[0m\u001b[37m\u001b[0m \u001b[1m0s\u001b[0m 4ms/step - accuracy: 0.8253 - loss: 0.4679 - val_accuracy: 0.8036 - val_loss: 0.5196\n",
            "Epoch 42/50\n",
            "\u001b[1m42/42\u001b[0m \u001b[32m━━━━━━━━━━━━━━━━━━━━\u001b[0m\u001b[37m\u001b[0m \u001b[1m0s\u001b[0m 4ms/step - accuracy: 0.8219 - loss: 0.4644 - val_accuracy: 0.8512 - val_loss: 0.5110\n",
            "Epoch 43/50\n",
            "\u001b[1m42/42\u001b[0m \u001b[32m━━━━━━━━━━━━━━━━━━━━\u001b[0m\u001b[37m\u001b[0m \u001b[1m0s\u001b[0m 4ms/step - accuracy: 0.8517 - loss: 0.4456 - val_accuracy: 0.8274 - val_loss: 0.5142\n",
            "Epoch 44/50\n",
            "\u001b[1m42/42\u001b[0m \u001b[32m━━━━━━━━━━━━━━━━━━━━\u001b[0m\u001b[37m\u001b[0m \u001b[1m0s\u001b[0m 4ms/step - accuracy: 0.8226 - loss: 0.4703 - val_accuracy: 0.8452 - val_loss: 0.5070\n",
            "Epoch 45/50\n",
            "\u001b[1m42/42\u001b[0m \u001b[32m━━━━━━━━━━━━━━━━━━━━\u001b[0m\u001b[37m\u001b[0m \u001b[1m0s\u001b[0m 4ms/step - accuracy: 0.8617 - loss: 0.3982 - val_accuracy: 0.8452 - val_loss: 0.5068\n",
            "Epoch 46/50\n",
            "\u001b[1m42/42\u001b[0m \u001b[32m━━━━━━━━━━━━━━━━━━━━\u001b[0m\u001b[37m\u001b[0m \u001b[1m0s\u001b[0m 4ms/step - accuracy: 0.8724 - loss: 0.4376 - val_accuracy: 0.7917 - val_loss: 0.5205\n",
            "Epoch 47/50\n",
            "\u001b[1m42/42\u001b[0m \u001b[32m━━━━━━━━━━━━━━━━━━━━\u001b[0m\u001b[37m\u001b[0m \u001b[1m0s\u001b[0m 4ms/step - accuracy: 0.8535 - loss: 0.4284 - val_accuracy: 0.8095 - val_loss: 0.5119\n",
            "Epoch 48/50\n",
            "\u001b[1m42/42\u001b[0m \u001b[32m━━━━━━━━━━━━━━━━━━━━\u001b[0m\u001b[37m\u001b[0m \u001b[1m0s\u001b[0m 4ms/step - accuracy: 0.8357 - loss: 0.4730 - val_accuracy: 0.8452 - val_loss: 0.5039\n",
            "Epoch 49/50\n",
            "\u001b[1m42/42\u001b[0m \u001b[32m━━━━━━━━━━━━━━━━━━━━\u001b[0m\u001b[37m\u001b[0m \u001b[1m0s\u001b[0m 4ms/step - accuracy: 0.8471 - loss: 0.4402 - val_accuracy: 0.8274 - val_loss: 0.5078\n",
            "Epoch 50/50\n",
            "\u001b[1m42/42\u001b[0m \u001b[32m━━━━━━━━━━━━━━━━━━━━\u001b[0m\u001b[37m\u001b[0m \u001b[1m0s\u001b[0m 4ms/step - accuracy: 0.8294 - loss: 0.4445 - val_accuracy: 0.8571 - val_loss: 0.5025\n",
            "Saved artifact at '/tmp/tmp7sypykc_'. The following endpoints are available:\n",
            "\n",
            "* Endpoint 'serve'\n",
            "  args_0 (POSITIONAL_ONLY): TensorSpec(shape=(None, 3), dtype=tf.float32, name='keras_tensor')\n",
            "Output Type:\n",
            "  TensorSpec(shape=(None, 3), dtype=tf.float32, name=None)\n",
            "Captures:\n",
            "  138758912814992: TensorSpec(shape=(), dtype=tf.resource, name=None)\n",
            "  138758912813648: TensorSpec(shape=(), dtype=tf.resource, name=None)\n",
            "  138756593996176: TensorSpec(shape=(), dtype=tf.resource, name=None)\n",
            "  138756593994832: TensorSpec(shape=(), dtype=tf.resource, name=None)\n",
            "  138758912812304: TensorSpec(shape=(), dtype=tf.resource, name=None)\n",
            "  138756593995216: TensorSpec(shape=(), dtype=tf.resource, name=None)\n"
          ]
        }
      ]
    },
    {
      "cell_type": "code",
      "source": [
        "# ==========================================\n",
        "# STEP 10: Precision, Recall, F1-Score, and Confusion Matrix\n",
        "# ==========================================\n",
        "from sklearn.metrics import confusion_matrix, ConfusionMatrixDisplay, classification_report\n",
        "import matplotlib.pyplot as plt\n",
        "\n",
        "# Gunakan model untuk memprediksi kelas dari data uji\n",
        "y_pred_probs = model.predict(X_test)\n",
        "y_pred_classes = np.argmax(y_pred_probs, axis=1)\n",
        "y_true_classes = np.argmax(y_test, axis=1)\n",
        "\n",
        "# Tampilkan laporan klasifikasi\n",
        "report = classification_report(y_true_classes, y_pred_classes, target_names=label_encoder.classes_)\n",
        "print(\"Classification Report:\\n\")\n",
        "print(report)\n",
        "\n",
        "# Prediksi dengan data uji\n",
        "y_pred_probs = model.predict(X_test)\n",
        "y_pred_labels = np.argmax(y_pred_probs, axis=1)\n",
        "y_true_labels = np.argmax(y_test, axis=1)\n",
        "\n",
        "# Hitung confusion matrix\n",
        "cm = confusion_matrix(y_true_labels, y_pred_labels)\n",
        "\n",
        "# Tampilkan confusion matrix\n",
        "disp = ConfusionMatrixDisplay(confusion_matrix=cm, display_labels=label_encoder.classes_)\n",
        "disp.plot(cmap=plt.cm.Blues)\n",
        "plt.title('Confusion Matrix - Plant Health Classification')\n",
        "plt.show()"
      ],
      "metadata": {
        "colab": {
          "base_uri": "https://localhost:8080/",
          "height": 726
        },
        "id": "DwOGFjjjPZdI",
        "outputId": "0d2a69ed-e766-452f-a3ee-7787fd72695b"
      },
      "execution_count": null,
      "outputs": [
        {
          "output_type": "stream",
          "name": "stdout",
          "text": [
            "\u001b[1m12/12\u001b[0m \u001b[32m━━━━━━━━━━━━━━━━━━━━\u001b[0m\u001b[37m\u001b[0m \u001b[1m0s\u001b[0m 3ms/step \n",
            "Classification Report:\n",
            "\n",
            "                 precision    recall  f1-score   support\n",
            "\n",
            "        Healthy       0.78      0.88      0.83        92\n",
            "    High Stress       0.94      0.81      0.87       144\n",
            "Moderate Stress       0.81      0.86      0.84       124\n",
            "\n",
            "       accuracy                           0.85       360\n",
            "      macro avg       0.84      0.85      0.85       360\n",
            "   weighted avg       0.86      0.85      0.85       360\n",
            "\n",
            "\u001b[1m12/12\u001b[0m \u001b[32m━━━━━━━━━━━━━━━━━━━━\u001b[0m\u001b[37m\u001b[0m \u001b[1m0s\u001b[0m 2ms/step \n"
          ]
        },
        {
          "output_type": "display_data",
          "data": {
            "text/plain": [
              "<Figure size 640x480 with 2 Axes>"
            ],
            "image/png": "[encoded data removed]"
          },
          "metadata": {}
        }
      ]
    },
    {
      "cell_type": "code",
      "source": [
        "test_loss, test_acc = model.evaluate(X_test, y_test, verbose=1)\n",
        "print(f\"Test Accuracy: {test_acc*100:.2f}%\")"
      ],
      "metadata": {
        "id": "Mulhqrc_-bKQ",
        "outputId": "76871ab0-1862-4d02-8722-8ed695f13572",
        "colab": {
          "base_uri": "https://localhost:8080/"
        }
      },
      "execution_count": null,
      "outputs": [
        {
          "output_type": "stream",
          "name": "stdout",
          "text": [
            "\u001b[1m12/12\u001b[0m \u001b[32m━━━━━━━━━━━━━━━━━━━━\u001b[0m\u001b[37m\u001b[0m \u001b[1m0s\u001b[0m 4ms/step - accuracy: 0.8768 - loss: 0.4289  \n",
            "Test Accuracy: 84.72%\n"
          ]
        }
      ]
    }
  ],
  "metadata": {
    "colab": {
      "provenance": [],
      "gpuType": "T4",
      "include_colab_link": true
    },
    "kernelspec": {
      "display_name": "Python 3",
      "name": "python3"
    },
    "language_info": {
      "name": "python"
    },
    "accelerator": "GPU"
  },
  "nbformat": 4,
  "nbformat_minor": 0
}