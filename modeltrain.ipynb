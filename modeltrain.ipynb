# ==========================================
# STEP 1: Import Library
# ==========================================
import pandas as pd
import numpy as np
from sklearn.preprocessing import MinMaxScaler, LabelEncoder
from sklearn.model_selection import train_test_split
from tensorflow.keras.utils import to_categorical
import tensorflow as tf
from tensorflow.keras import layers

# ==========================================
# STEP 2: Load Data
# ==========================================
df = pd.read_csv('plant_health_data.csv')

# Pilih fitur dan target
X = df[['Soil_Moisture', 'Ambient_Temperature', 'Humidity']].values
y = df['Plant_Health_Status'].values  # Kategorikal

# ==========================================
# STEP 3: Preprocessing Label
# ==========================================
label_encoder = LabelEncoder()
y_encoded = label_encoder.fit_transform(y)       # 'Healthy' → 0, dst
y_categorical = to_categorical(y_encoded, num_classes=3)

# ==========================================
# STEP 4: Normalisasi Input
# ==========================================
scaler = MinMaxScaler()
X_scaled = scaler.fit_transform(X)

# ==========================================
# STEP 5: Train/Val/Test Split
# ==========================================
X_train, X_test, y_train, y_test = train_test_split(X_scaled, y_categorical, test_size=0.3, random_state=42)
X_train, X_val, y_train, y_val = train_test_split(X_train, y_train, test_size=0.2, random_state=42)

# ==========================================
# STEP 6: Build Model
# ==========================================
def build_model(input_shape, num_classes):
    model = tf.keras.Sequential([
        tf.keras.Input(shape=input_shape),
        layers.Dense(32, activation='relu'),
        layers.Dense(16, activation='relu'),
        layers.Dense(num_classes, activation='softmax')
    ])
    model.compile(optimizer='adam', loss='categorical_crossentropy', metrics=['accuracy'])
    return model

model = build_model((3,), 3)

# ==========================================
# STEP 7: Train
# ==========================================
model.fit(X_train, y_train, epochs=50, batch_size=16, validation_data=(X_val, y_val), verbose=1)

# ==========================================
# STEP 8: Convert to TFLite
# ==========================================
converter = tf.lite.TFLiteConverter.from_keras_model(model)
tflite_model = converter.convert()

with open("PlantHealth.tflite", "wb") as f:
    f.write(tflite_model)

# ==========================================
# STEP 9: Convert to .h
# ==========================================
!xxd -i PlantHealth.tflite > PlantHealth.h
